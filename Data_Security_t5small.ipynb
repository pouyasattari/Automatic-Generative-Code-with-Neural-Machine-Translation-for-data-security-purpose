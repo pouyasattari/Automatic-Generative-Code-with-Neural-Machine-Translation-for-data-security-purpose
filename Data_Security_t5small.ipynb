{
  "cells": [
    {
      "cell_type": "code",
      "execution_count": null,
      "metadata": {
        "id": "pkoAYS9rKkkY"
      },
      "outputs": [],
      "source": [
        "! pip install python-Levenshtein\n",
        "\n",
        "\n",
        "import locale\n",
        "locale.setlocale(locale.LC_ALL, 'en_US.UTF-8')\n",
        "!pip install datasets\n",
        "\n",
        "\n",
        "! pip install accelerate -U\n",
        "! pip install transformers[torch]"
      ]
    },
    {
      "cell_type": "code",
      "source": [
        "pip install --upgrade --force-reinstall pyarrow\n"
      ],
      "metadata": {
        "id": "12q1HUmlHZOF"
      },
      "execution_count": null,
      "outputs": []
    },
    {
      "cell_type": "code",
      "execution_count": null,
      "metadata": {
        "id": "klMEQPaEVONc"
      },
      "outputs": [],
      "source": [
        "import pandas as pd\n",
        "import os\n",
        "from sklearn.utils import shuffle\n",
        "import re\n",
        "import numpy as np\n",
        "from transformers import T5ForConditionalGeneration, AutoTokenizer\n",
        "import nltk\n",
        "import Levenshtein\n",
        "from datasets import DatasetDict, Dataset\n",
        "from transformers import DataCollatorWithPadding\n",
        "from transformers import Trainer, TrainingArguments\n"
      ]
    },
    {
      "cell_type": "code",
      "execution_count": null,
      "metadata": {
        "id": "ofwzTUthX3DD"
      },
      "outputs": [],
      "source": [
        "## install git  with bash command\n",
        "#   !apt-get update\n",
        "#   !apt-get install git"
      ]
    },
    {
      "cell_type": "code",
      "execution_count": null,
      "metadata": {
        "colab": {
          "base_uri": "https://localhost:8080/"
        },
        "id": "icL8mnqNW6wb",
        "outputId": "362c76c0-1120-407d-b462-5164ea44b9b0"
      },
      "outputs": [
        {
          "output_type": "stream",
          "name": "stdout",
          "text": [
            "Cloning into 'violent-python'...\n",
            "remote: Enumerating objects: 28, done.\u001b[K\n",
            "remote: Counting objects: 100% (28/28), done.\u001b[K\n",
            "remote: Compressing objects: 100% (25/25), done.\u001b[K\n",
            "remote: Total 28 (delta 4), reused 24 (delta 3), pack-reused 0\u001b[K\n",
            "Receiving objects: 100% (28/28), 61.15 KiB | 3.40 MiB/s, done.\n",
            "Resolving deltas: 100% (4/4), done.\n"
          ]
        }
      ],
      "source": [
        "## clone the folder of github\n",
        "\n",
        "!git clone https://github.com/dessertlab/violent-python.git\n"
      ]
    },
    {
      "cell_type": "markdown",
      "metadata": {
        "id": "X2zQBuHXEL-X"
      },
      "source": [
        "## Merge the Datasets"
      ]
    },
    {
      "cell_type": "code",
      "execution_count": null,
      "metadata": {
        "id": "USfuYxjNVTla"
      },
      "outputs": [],
      "source": [
        "## paths of the folders\n",
        "\n",
        "path_block = \"/content/violent-python/block\"\n",
        "path_function = \"/content/violent-python/function\"\n",
        "path_singleline = \"/content/violent-python/singleline\"\n",
        "\n",
        "\n",
        "paths=[path_block, path_function, path_singleline]"
      ]
    },
    {
      "cell_type": "code",
      "execution_count": null,
      "metadata": {
        "colab": {
          "base_uri": "https://localhost:8080/"
        },
        "id": "Q8GRuKdAZH0C",
        "outputId": "32fd2c8d-226b-434f-ddae-8c419d95a02f"
      },
      "outputs": [
        {
          "output_type": "stream",
          "name": "stdout",
          "text": [
            "python-test.in\n",
            "17\n",
            "python-dev.in\n",
            "17\n",
            "python-dev.out\n",
            "17\n",
            "python-train.out\n",
            "137\n",
            "python-test.out\n",
            "17\n",
            "python-train.in\n",
            "137\n",
            "python-test.in\n",
            "7\n",
            "python-dev.in\n",
            "7\n",
            "python-dev.out\n",
            "7\n",
            "python-train.out\n",
            "58\n",
            "python-test.out\n",
            "7\n",
            "python-train.in\n",
            "58\n",
            "python-test.in\n",
            "113\n",
            "python-dev.in\n",
            "113\n",
            "python-dev.out\n",
            "113\n",
            "python-train.out\n",
            "902\n",
            "python-test.out\n",
            "113\n",
            "python-train.in\n",
            "902\n"
          ]
        }
      ],
      "source": [
        "# Instantiate a dictionary\n",
        "\n",
        "\n",
        "dict = {}\n",
        "num = 0\n",
        "\n",
        "# Iterate over the paths\n",
        "for p in paths:\n",
        "    num += 1\n",
        "    i = 0\n",
        "    # Iterate over the files in the folder\n",
        "    for text in os.listdir(p):\n",
        "        print(text)\n",
        "        complete_path = os.path.join(p, text)\n",
        "        with open(complete_path, \"r\") as file:\n",
        "            content = file.readlines()  # Read all lines from the file\n",
        "\n",
        "            # Apply cleaning to each line and store the cleaned lines in new_content\n",
        "            new_content = [re.sub(r'\\W+', ' ', line.strip()) for line in content]\n",
        "            print(len(new_content))\n",
        "            dict[f\"{text}_{num}\"] = new_content\n",
        "        i += 1"
      ]
    },
    {
      "cell_type": "code",
      "execution_count": null,
      "metadata": {
        "colab": {
          "base_uri": "https://localhost:8080/"
        },
        "id": "riSryseygTb7",
        "outputId": "8ab4ab6f-3407-4e8c-a9cc-b0d960044e02"
      },
      "outputs": [
        {
          "output_type": "execute_result",
          "data": {
            "text/plain": [
              "['python-test.in_1',\n",
              " 'python-dev.in_1',\n",
              " 'python-dev.out_1',\n",
              " 'python-train.out_1',\n",
              " 'python-test.out_1',\n",
              " 'python-train.in_1',\n",
              " 'python-test.in_2',\n",
              " 'python-dev.in_2',\n",
              " 'python-dev.out_2',\n",
              " 'python-train.out_2',\n",
              " 'python-test.out_2',\n",
              " 'python-train.in_2',\n",
              " 'python-test.in_3',\n",
              " 'python-dev.in_3',\n",
              " 'python-dev.out_3',\n",
              " 'python-train.out_3',\n",
              " 'python-test.out_3',\n",
              " 'python-train.in_3']"
            ]
          },
          "metadata": {},
          "execution_count": 9
        }
      ],
      "source": [
        "list(dict.keys())"
      ]
    },
    {
      "cell_type": "code",
      "execution_count": null,
      "metadata": {
        "id": "PPI7XL_xjIB7"
      },
      "outputs": [],
      "source": [
        "names_train_in = [\n",
        "    'python-train.in_1',\n",
        "    'python-train.in_2',\n",
        "    'python-train.in_3'\n",
        "]\n",
        "\n",
        "names_train_out = [\n",
        "    'python-train.out_1',\n",
        "    'python-train.out_2',\n",
        "    'python-train.out_3'\n",
        "]\n",
        "\n",
        "names_validation_in = [\n",
        "    'python-dev.in_1',\n",
        "    'python-dev.in_2',\n",
        "    'python-dev.in_3'\n",
        "]\n",
        "\n",
        "names_validation_out = [\n",
        "    'python-dev.out_1',\n",
        "    'python-dev.out_2',\n",
        "    'python-dev.out_3'\n",
        "]\n",
        "\n",
        "names_test_in = [\n",
        "    'python-test.in_1',\n",
        "    'python-test.in_2',\n",
        "    'python-test.in_3'\n",
        "]\n",
        "\n",
        "names_test_out = [\n",
        "    'python-test.out_1',\n",
        "    'python-test.out_2',\n",
        "    'python-test.out_3'\n",
        "]"
      ]
    },
    {
      "cell_type": "code",
      "execution_count": null,
      "metadata": {
        "id": "viYzfkUOk7Hm"
      },
      "outputs": [],
      "source": [
        "total_name = [names_train_in, names_train_out, names_validation_in, names_validation_out, names_test_in, names_test_out]\n",
        "\n",
        "# Initialize the lists\n",
        "list_train_in = []\n",
        "list_train_out = []\n",
        "list_validation_in = []\n",
        "list_validation_out = []\n",
        "list_test_in = []\n",
        "list_test_out = []\n",
        "\n",
        "# List containing all the lists\n",
        "total_list = [list_train_in, list_train_out, list_validation_in, list_validation_out, list_test_in, list_test_out]\n",
        "\n",
        "# Update the lists\n",
        "for lista, names in zip(total_list, total_name):\n",
        "    for name in names:\n",
        "        lista.extend(dict[name])\n",
        "\n"
      ]
    },
    {
      "cell_type": "code",
      "execution_count": null,
      "metadata": {
        "colab": {
          "base_uri": "https://localhost:8080/"
        },
        "id": "HzVTrYRMllPE",
        "outputId": "595da4c6-005f-409e-e4e4-0f19ed01f202"
      },
      "outputs": [
        {
          "output_type": "stream",
          "name": "stdout",
          "text": [
            "[1097, 1097, 137, 137, 137, 137]\n"
          ]
        }
      ],
      "source": [
        "# Print the lengths of the lists\n",
        "print([len(x) for x in total_list])"
      ]
    },
    {
      "cell_type": "code",
      "execution_count": null,
      "metadata": {
        "id": "H9tzpUs-mEBs"
      },
      "outputs": [],
      "source": [
        "## now it is the time to shuffle data in ordee to improve robustness for the training when we will do batches groups\n",
        "\n",
        "seed_value = 50\n",
        "\n",
        "# Creation of dataframe and shuffling\n",
        "df_train = pd.DataFrame({'Input': list_train_in, 'Output': list_train_out})\n",
        "df_train = shuffle(df_train, random_state=seed_value)\n",
        "\n",
        "df_validation = pd.DataFrame({'Input':list_validation_in , 'Output': list_validation_out})\n",
        "df_validation = shuffle(df_validation, random_state=seed_value)\n",
        "\n",
        "df_test = pd.DataFrame({'Input': list_test_in, 'Output': list_test_out})\n",
        "df_test = shuffle(df_test, random_state=seed_value)\n"
      ]
    },
    {
      "cell_type": "code",
      "execution_count": null,
      "metadata": {
        "colab": {
          "base_uri": "https://localhost:8080/"
        },
        "id": "Aa00LHFjmOC0",
        "outputId": "5d061502-becd-4a6e-d3c6-999147b1e292"
      },
      "outputs": [
        {
          "output_type": "stream",
          "name": "stdout",
          "text": [
            "Length of df_train: 1097\n",
            "Length of df_validation: 137\n",
            "Length of df_test: 137\n"
          ]
        }
      ],
      "source": [
        "print(\"Length of df_train:\", len(df_train))\n",
        "print(\"Length of df_validation:\", len(df_validation))\n",
        "print(\"Length of df_test:\", len(df_test))"
      ]
    },
    {
      "cell_type": "code",
      "execution_count": null,
      "metadata": {
        "id": "eC6gtaHKYclG"
      },
      "outputs": [],
      "source": [
        "## modol of our choice\n",
        "\n",
        "\n",
        "##  T5 (Text-To-Text Transfer Transformer)\n",
        "\n",
        "## class T5ForConditionalGeneration\n",
        "## checkpoint =  \"t5-small\"\n",
        "\n",
        "### class MarianMTModel\n",
        "##  checkpoint =  \"Helsinki-NLP/opus-mt-en-roa\"\n"
      ]
    },
    {
      "cell_type": "markdown",
      "metadata": {
        "id": "z8C9S9-uYXNB"
      },
      "source": [
        "## Model,  zero-shot learning and Evaluation (\"t5-small\")"
      ]
    },
    {
      "cell_type": "code",
      "execution_count": null,
      "metadata": {
        "colab": {
          "base_uri": "https://localhost:8080/",
          "height": 333,
          "referenced_widgets": [
            "df484132a2cf4a30b6aec6bcc8e45fb1",
            "9b3beff301b94260b61f758eb14cfb17",
            "3ab68f95285e429987f8cf4e776ee4e1",
            "02a35fea8a8447dfa0ede7d00afe9c20",
            "bfd35e459fab48cbaf74ec2f144b074c",
            "57cc9f7d55f24b6fb23c1b5833514d8c",
            "c640d7581875454f9144c02fecae1dcf",
            "a29f9f35c0f046eaa0907c8fc542bfd7",
            "801eede190914f2686e2781a00ad7e48",
            "c0bc8d1fdff944648c6d3e12759e7881",
            "ee84e31a5a384e8db88731fdaf33fb08",
            "9877935c41094ab7bae97029531c63a7",
            "7880853113b0488a9c88c63aed4d5f35",
            "2ffa36720344492ea056477bc0c21bbe",
            "5f12a025ddc4433f96e0e5722ee2b86a",
            "fc25721276ec4119b648f57380a6dc0c",
            "73f7717948e1430a828a506a067db277",
            "750a29fa651e4c5fa3c2f16e32174bdc",
            "b374db395a5a45b9843866507eabf1e0",
            "d463564368874e4ba8e323709dea4e22",
            "f927c97f407e43c0add937813acbba3a",
            "53d4ad723ada44afbaa25d4eb2b5d2ec",
            "ae91ba39c797426c98d4478f27baa819",
            "ca2904134901427fb258bb82a36c3a02",
            "eb1641968803419791e4a9b3babc55bb",
            "f4945adde21a42c98b31c1bb3343749f",
            "fe759d72af9f4cb3a5107837e51f1fcb",
            "7dd2e31d92e94af89a7ce4920f2e2098",
            "505dd8aed81e45babf526e04efdb0c4d",
            "383bef196c8b45d39178aa9f11051367",
            "2b1307f4c75245c49616172f9b1e62df",
            "c07b43d30daf4714bd3ee1f443c4e239",
            "69d7e06d329643f19707add888e86500",
            "1540599244614f6a920159715884801f",
            "3ae476a20d9d42ca8f2c920973233a4c",
            "9ae004b1dac64d6f949e24bf0c17e390",
            "3b6af722d52940dca6fd941e0be6918c",
            "133bd5d895cb415ca34b36fc153f2cf7",
            "6f98ff31cbd04b47a0004ae2209dde95",
            "e7817220539244f1967cb54e7215348d",
            "3e9a33fc95dd4c64aef6d42a6c6d0297",
            "2601e2e4c9ae467eba3af30211abacfb",
            "100c4dc9c79b4ec881f7a879caf24f5e",
            "d254615ae3724f879e5dbf0ead04d54a",
            "f8e926982adb4319a99d30e7294c9b21",
            "9f733445d8e1425c97eaf2edc73a66d6",
            "e0e9086d419e466ba2012e7528eae5aa",
            "8e51724d4a2c4dfea06dc98aa364d6d3",
            "8ed1210108554fdf9d8f4f418480f7fa",
            "61c4725fecf142eeace6682305c2f05c",
            "cf5f3955fd5548ec88244e46cb86260c",
            "ffefce608bab43b6840512e9139249e5",
            "b7765b20f3844428b50b526e2776b8a3",
            "0c45ed839b8d429386914725b5bd8c67",
            "8ae1331fd6e0447fa58e942961213d21",
            "302a8e0da5dd482e852b2d11c8151642",
            "130e7f5bc5304f2f93a49540c50039b1",
            "e75431e703474cda9aa802d5967a0290",
            "6173576529c64c0b809c250f7cb9da2a",
            "5d203adea9804ffd8d109bf4e6c3425a",
            "2b782ee0320848e5ba97942133b2b948",
            "9c1183f2a62c480492a91eacca61e158",
            "e01ad435ecae4f3abb8470e034971a89",
            "897e2440001c4d469c0c30a9b2b883a7",
            "66e734063d1949ef937a7b18d36465ce",
            "0e60d5829b9945dfbb1eb851a4de7c48"
          ]
        },
        "id": "PuMqcNX7Ycne",
        "outputId": "7f46dfc2-b160-41cc-bfe1-3fbd68d12a83"
      },
      "outputs": [
        {
          "output_type": "stream",
          "name": "stderr",
          "text": [
            "/usr/local/lib/python3.10/dist-packages/huggingface_hub/utils/_token.py:88: UserWarning: \n",
            "The secret `HF_TOKEN` does not exist in your Colab secrets.\n",
            "To authenticate with the Hugging Face Hub, create a token in your settings tab (https://huggingface.co/settings/tokens), set it as secret in your Google Colab and restart your session.\n",
            "You will be able to reuse this secret in all of your notebooks.\n",
            "Please note that authentication is recommended but still optional to access public models or datasets.\n",
            "  warnings.warn(\n"
          ]
        },
        {
          "output_type": "display_data",
          "data": {
            "text/plain": [
              "tokenizer_config.json:   0%|          | 0.00/2.32k [00:00<?, ?B/s]"
            ],
            "application/vnd.jupyter.widget-view+json": {
              "version_major": 2,
              "version_minor": 0,
              "model_id": "df484132a2cf4a30b6aec6bcc8e45fb1"
            }
          },
          "metadata": {}
        },
        {
          "output_type": "display_data",
          "data": {
            "text/plain": [
              "spiece.model:   0%|          | 0.00/792k [00:00<?, ?B/s]"
            ],
            "application/vnd.jupyter.widget-view+json": {
              "version_major": 2,
              "version_minor": 0,
              "model_id": "9877935c41094ab7bae97029531c63a7"
            }
          },
          "metadata": {}
        },
        {
          "output_type": "display_data",
          "data": {
            "text/plain": [
              "tokenizer.json:   0%|          | 0.00/1.39M [00:00<?, ?B/s]"
            ],
            "application/vnd.jupyter.widget-view+json": {
              "version_major": 2,
              "version_minor": 0,
              "model_id": "ae91ba39c797426c98d4478f27baa819"
            }
          },
          "metadata": {}
        },
        {
          "output_type": "display_data",
          "data": {
            "text/plain": [
              "config.json:   0%|          | 0.00/1.21k [00:00<?, ?B/s]"
            ],
            "application/vnd.jupyter.widget-view+json": {
              "version_major": 2,
              "version_minor": 0,
              "model_id": "1540599244614f6a920159715884801f"
            }
          },
          "metadata": {}
        },
        {
          "output_type": "display_data",
          "data": {
            "text/plain": [
              "model.safetensors:   0%|          | 0.00/242M [00:00<?, ?B/s]"
            ],
            "application/vnd.jupyter.widget-view+json": {
              "version_major": 2,
              "version_minor": 0,
              "model_id": "f8e926982adb4319a99d30e7294c9b21"
            }
          },
          "metadata": {}
        },
        {
          "output_type": "display_data",
          "data": {
            "text/plain": [
              "generation_config.json:   0%|          | 0.00/147 [00:00<?, ?B/s]"
            ],
            "application/vnd.jupyter.widget-view+json": {
              "version_major": 2,
              "version_minor": 0,
              "model_id": "302a8e0da5dd482e852b2d11c8151642"
            }
          },
          "metadata": {}
        }
      ],
      "source": [
        "\n",
        "\n",
        "\n",
        "# Load the tokenizer and the model\n",
        "\n",
        "checkpoint = \"t5-small\"\n",
        "device = \"cuda\" # for GPU usage or \"cpu\" for CPU usage\n",
        "max_seq_length = 512\n",
        "tokenizer = AutoTokenizer.from_pretrained(checkpoint, max_length=max_seq_length)\n",
        "model = T5ForConditionalGeneration.from_pretrained(checkpoint).to(device)\n",
        "\n",
        "\n",
        "\n",
        "\n",
        "\n",
        "\n"
      ]
    },
    {
      "cell_type": "code",
      "execution_count": null,
      "metadata": {
        "colab": {
          "base_uri": "https://localhost:8080/"
        },
        "id": "ph4UACBBRFkg",
        "outputId": "d46d3be5-4dd4-49a7-835e-c999e024a451"
      },
      "outputs": [
        {
          "output_type": "stream",
          "name": "stdout",
          "text": [
            "\n",
            "****************\n",
            "\n",
            "Intent: Write a Python function to add two numbers.\n",
            "\n",
            "Output: \n",
            "\n",
            "Schreiben Sie eine Python Funktion, um zwei Zahlen hinzufüfüfüfüfüfüfüfüfüfüfüfüfüfüfüfüfüfüfüfüfüfüfüfüfüfüfüfüfüfüfüfüfüfüfüfüfüfüfüfüfüfüfüfüfüfüfüfüfüfüfüfüfü\n",
            "\n",
            "****************\n",
            "\n",
            "Intent: Define a main function that opens a file.\n",
            "\n",
            "Output: \n",
            "\n",
            "Definifinit a main function that opens a file.\n",
            "\n",
            "****************\n",
            "\n",
            "Intent: Declare a variable of type int.\n",
            "\n",
            "Output: \n",
            "\n",
            "Deklarez a variable de type int.\n"
          ]
        }
      ],
      "source": [
        "## for general purpose\n",
        "\n",
        "input_texts = [\"Write a Python function to add two numbers.\",\n",
        "              \"Define a main function that opens a file.\",\n",
        "              \"Declare a variable of type int.\"]\n",
        "\n",
        "\n",
        "for sample in input_texts:\n",
        "  # Tokenize the input text\n",
        "  input_ids = tokenizer.encode(sample,  return_tensors=\"pt\").to(device)\n",
        "\n",
        "  print(\"\\n****************\\n\")\n",
        "  # Generate code based on the input text\n",
        "  print(\"Intent: \"+sample + \"\\n\")\n",
        "  output = model.generate(input_ids, max_length=64)\n",
        "\n",
        "  # Decode the generated code\n",
        "  generated_code = tokenizer.decode(output[0], skip_special_tokens=True)\n",
        "\n",
        "  print(\"Output: \\n\")\n",
        "  print(generated_code)\n",
        "\n"
      ]
    },
    {
      "cell_type": "code",
      "execution_count": null,
      "metadata": {
        "colab": {
          "base_uri": "https://localhost:8080/"
        },
        "id": "4BlIQy3hYcqA",
        "outputId": "c26da5b9-0818-45cb-814e-923668d9a165"
      },
      "outputs": [
        {
          "output_type": "stream",
          "name": "stdout",
          "text": [
            "****************\n",
            "Command:\n",
            "Assign to soup the result of BeautufulSoup with argument html\n",
            "Assign to soup the result of BeautufulSoup with argument html\n",
            "\n",
            "Ground Truth:\n",
            "soup BeautifulSoup html \n",
            "****************\n",
            "Command:\n",
            "For each cookie in the cookie_jar do nothing\n",
            "Pour chaque cookie in the cookie_jar do nothing\n",
            "\n",
            "Ground Truth:\n",
            "for cookie in cookie_jar n pass\n",
            "****************\n",
            "Command:\n",
            "Add the option u for url as type string with help equals to specify url address \n",
            "Add the option u for url as type string with help equals to specify url address.\n",
            "\n",
            "Ground Truth:\n",
            "parser add_option u dest url type string help specify url address \n",
            "****************\n",
            "Command:\n",
            "Assign to url the result of function str with argument row at position 0\n",
            "Assign to url the result of function str with argument row at position 0\n",
            "\n",
            "Ground Truth:\n",
            "url str row 0 \n",
            "****************\n",
            "Command:\n",
            "Assign to shellcode the tuple containing xbf x5c x2a x11 xb3 xd9 xe5 xd9 x74 x24 xf4 x5d x33 xc9 \n",
            "shellcode the tuple containing xbf x5c x2a x11 xb3 xd9 xe5 xd9 x74 x24 xf4 x5d x33 \n",
            "\n",
            "Ground Truth:\n",
            "shellcode xbf x5c x2a x11 xb3 xd9 xe5 xd9 x74 x24 xf4 x5d x33 xc9 \n"
          ]
        }
      ],
      "source": [
        "## for our specific task\n",
        "\n",
        "\n",
        "\n",
        "\n",
        "\n",
        "for i in np.arange(5):\n",
        "    print(\"****************\")\n",
        "    print(\"Command:\")\n",
        "    print(df_test.iloc[i, 0])\n",
        "\n",
        "    inputs = tokenizer.encode(df_test.iloc[i, 0], return_tensors=\"pt\").to(device)\n",
        "    outputs = model.generate(inputs, max_length=60)\n",
        "    result = tokenizer.decode(outputs[0], skip_special_tokens=True)\n",
        "    print(result)\n",
        "\n",
        "    print(\"\\nGround Truth:\")\n",
        "    print(df_test.iloc[i, 1])\n",
        "\n",
        "\n",
        "\n"
      ]
    },
    {
      "cell_type": "markdown",
      "metadata": {
        "id": "AwZaj3VOg4-f"
      },
      "source": [
        " ### Evaluation\n"
      ]
    },
    {
      "cell_type": "code",
      "execution_count": null,
      "metadata": {
        "id": "FZZjDzRcYcsj"
      },
      "outputs": [],
      "source": [
        "\n",
        "\n",
        "# List to store predictions\n",
        "predictions = []\n",
        "\n",
        "# Perform predictions on the df_test dataframe\n",
        "for i in df_test.iloc[:, 0]:\n",
        "    # Encode input text\n",
        "    inputs = tokenizer.encode(i, return_tensors=\"pt\").to(device)\n",
        "    # Generate output sequence\n",
        "    outputs = model.generate(inputs, max_length=60)\n",
        "    # Decode generated sequence\n",
        "    result = tokenizer.decode(outputs[0], skip_special_tokens=True)\n",
        "    predictions.append(result)\n",
        "\n",
        "# Make sure df_test.iloc[:, 1] is a list of references\n",
        "references = df_test.iloc[:, 1].tolist()\n",
        "\n"
      ]
    },
    {
      "cell_type": "code",
      "execution_count": null,
      "metadata": {
        "id": "a2kz3SCP_El8"
      },
      "outputs": [],
      "source": [
        "def _levenshtein(str1, str2):\n",
        "    return (1 - Levenshtein.distance(str1, str2) / max(len(str1), len(str2))) * 100\n",
        "\n",
        "def mean_levenshtein_distance_percentage_similarity(list1, list2):\n",
        "    similarities = []\n",
        "    for s1, s2 in zip(list1, list2):\n",
        "        similarities.append(_levenshtein(s1, s2))\n",
        "    mean_similarity = np.mean(similarities)\n",
        "    return similarities, mean_similarity\n",
        "\n",
        "\n"
      ]
    },
    {
      "cell_type": "code",
      "execution_count": null,
      "metadata": {
        "colab": {
          "base_uri": "https://localhost:8080/"
        },
        "id": "tSQnI6UHNfu6",
        "outputId": "5c3b32f3-16d3-4db3-ed52-e629100f19c3"
      },
      "outputs": [
        {
          "output_type": "stream",
          "name": "stdout",
          "text": [
            "Levenshtein similarity as percentage: [34.42622950819673, 53.191489361702125, 58.75, 18.055555555555557, 69.87951807228916, 25.71428571428571, 21.818181818181813, 37.2093023255814, 28.947368421052634, 21.875, 0.0, 13.124999999999998, 40.0, 15.789473684210531, 54.16666666666667, 43.28358208955224, 62.22222222222222, 18.181818181818176, 50.0, 20.779220779220775, 16.747572815533985, 40.36697247706422, 32.47863247863248, 30.573248407643316, 40.0, 2.7989821882951627, 49.056603773584904, 42.307692307692314, 82.08955223880598, 32.35294117647059, 33.333333333333336, 20.45454545454546, 62.19512195121951, 68.0, 11.111111111111116, 4.0000000000000036, 19.11764705882353, 35.29411764705882, 42.85714285714286, 26.74418604651163, 28.57142857142857, 18.181818181818176, 18.965517241379317, 23.376623376623375, 35.051546391752574, 31.25, 16.000000000000004, 88.52459016393442, 19.354838709677423, 39.34426229508197, 5.6521739130434785, 16.129032258064512, 30.708661417322837, 34.04255319148937, 16.049382716049386, 10.526315789473683, 11.23595505617978, 70.27027027027026, 55.00000000000001, 36.53846153846154, 37.142857142857146, 0.0, 63.42857142857143, 17.67955801104972, 39.02439024390244, 16.959064327485386, 30.35714285714286, 29.032258064516125, 10.526315789473683, 21.897810218978098, 37.23404255319149, 30.666666666666664, 4.878048780487809, 51.44927536231884, 24.242424242424242, 40.74074074074075, 18.644067796610166, 48.611111111111114, 31.57894736842105, 80.53097345132744, 33.333333333333336, 33.333333333333336, 30.069930069930074, 9.090909090909093, 36.0, 23.529411764705888, 14.117647058823534, 0.0, 46.0, 24.615384615384617, 15.000000000000002, 32.06106870229007, 4.081632653061229, 40.476190476190474, 26.37362637362637, 27.500000000000004, 32.8, 25.806451612903224, 17.24137931034483, 33.92857142857143, 51.72413793103448, 40.625, 23.076923076923073, 69.50354609929079, 19.047619047619047, 23.25581395348837, 40.90909090909091, 42.42424242424242, 56.52173913043479, 28.44036697247706, 34.285714285714285, 45.90163934426229, 24.28571428571429, 13.636363636363635, 48.421052631578945, 32.20338983050848, 19.047619047619047, 58.82352941176471, 28.413284132841333, 28.000000000000004, 40.90909090909091, 0.8510638297872353, 88.23529411764706, 42.553191489361694, 57.14285714285714, 28.301886792452834, 16.000000000000004, 21.333333333333336, 7.14285714285714, 13.600000000000001, 36.60130718954249, 30.434782608695656, 19.999999999999996, 49.056603773584904, 22.916666666666664, 14.70588235294118, 44.067796610169495]\n",
            "Mean Levenshtein similarity as percentage: 32.01788529121675\n"
          ]
        }
      ],
      "source": [
        "similarities, mean_similarity = mean_levenshtein_distance_percentage_similarity(references, predictions)\n",
        "print(\"Levenshtein similarity as percentage:\", similarities)\n",
        "print(\"Mean Levenshtein similarity as percentage:\", mean_similarity)"
      ]
    },
    {
      "cell_type": "markdown",
      "metadata": {
        "id": "yXULJdi1fHBc"
      },
      "source": [
        "## Transfer Learning, Fine-tuning  and Evaluation"
      ]
    },
    {
      "cell_type": "code",
      "source": [
        "## transform the dataframe\n",
        "\n",
        "dataset_train = Dataset.from_pandas(df_train)\n",
        "dataset_validation = Dataset.from_pandas(df_validation)\n",
        "dataset_test = Dataset.from_pandas(df_test)\n",
        "\n"
      ],
      "metadata": {
        "id": "PX-mddX0l8g_"
      },
      "execution_count": null,
      "outputs": []
    },
    {
      "cell_type": "code",
      "source": [
        "dataset_train"
      ],
      "metadata": {
        "colab": {
          "base_uri": "https://localhost:8080/"
        },
        "id": "AudORUPc-QP0",
        "outputId": "fa5672f1-2df7-4d83-e51f-d0c3b270cb9e"
      },
      "execution_count": null,
      "outputs": [
        {
          "output_type": "execute_result",
          "data": {
            "text/plain": [
              "Dataset({\n",
              "    features: ['Input', 'Output', '__index_level_0__'],\n",
              "    num_rows: 1097\n",
              "})"
            ]
          },
          "metadata": {},
          "execution_count": 60
        }
      ]
    },
    {
      "cell_type": "code",
      "source": [
        "def tokenize_function(example):\n",
        "    input_encodings = tokenizer(example['Input'], truncation=True, padding=True)\n",
        "    output_encodings = tokenizer(example['Output'], truncation=True, padding=True)\n",
        "\n",
        "    # Creazione del nuovo oggetto Dataset con gli identificatori dei token e le maschere di attenzione\n",
        "    tokenized_dataset = Dataset.from_dict({\n",
        "        'input_ids': input_encodings['input_ids'],\n",
        "        'attention_mask': input_encodings['attention_mask'],\n",
        "        'labels': output_encodings['input_ids'],  # Utilizziamo gli identificatori dei token di output come etichette\n",
        "        'decoder_attention_mask': output_encodings['attention_mask']  # Utilizziamo gli identificatori dei token di output come input per il decoder\n",
        "    })\n",
        "\n",
        "    return tokenized_dataset"
      ],
      "metadata": {
        "id": "gKgieV4lMjHC"
      },
      "execution_count": null,
      "outputs": []
    },
    {
      "cell_type": "code",
      "source": [
        "tokenized_dataset_train = tokenize_function(dataset_train)\n"
      ],
      "metadata": {
        "id": "M_p9BEX1CT2f"
      },
      "execution_count": null,
      "outputs": []
    },
    {
      "cell_type": "code",
      "source": [
        "tokenized_dataset_validation =  tokenize_function(dataset_validation)"
      ],
      "metadata": {
        "id": "UgKy2tBxCgBP"
      },
      "execution_count": null,
      "outputs": []
    },
    {
      "cell_type": "code",
      "source": [
        "tokenized_dataset_train"
      ],
      "metadata": {
        "colab": {
          "base_uri": "https://localhost:8080/"
        },
        "id": "3BrtbicQ9DYE",
        "outputId": "4d59c9c8-44ef-4347-8fff-57abb82d267b"
      },
      "execution_count": null,
      "outputs": [
        {
          "output_type": "execute_result",
          "data": {
            "text/plain": [
              "Dataset({\n",
              "    features: ['input_ids', 'attention_mask', 'target_ids', 'target_attention_mask'],\n",
              "    num_rows: 1097\n",
              "})"
            ]
          },
          "metadata": {},
          "execution_count": 64
        }
      ]
    },
    {
      "cell_type": "code",
      "execution_count": null,
      "metadata": {
        "id": "4hiHNem9fMkE"
      },
      "outputs": [],
      "source": [
        "\n",
        "\n",
        "data_collator = DataCollatorWithPadding(tokenizer=tokenizer)\n",
        "\n",
        "\n",
        "\n"
      ]
    },
    {
      "cell_type": "code",
      "source": [
        "## define the arguments\n",
        "\n",
        "args = TrainingArguments(\n",
        "    output_dir=\"/content/violent-python/model\",\n",
        "    evaluation_strategy=\"epoch\",\n",
        "    learning_rate=5e-5,\n",
        "    per_device_train_batch_size=8,\n",
        "    per_device_eval_batch_size=8,\n",
        "    num_train_epochs=10,\n",
        ")"
      ],
      "metadata": {
        "id": "nwOBVVVuPwyf"
      },
      "execution_count": null,
      "outputs": []
    },
    {
      "cell_type": "code",
      "execution_count": null,
      "metadata": {
        "id": "cg8SOCeKXfCu"
      },
      "outputs": [],
      "source": [
        "trainer = Trainer(\n",
        "model=model,\n",
        "tokenizer=tokenizer,\n",
        "args=args,\n",
        "data_collator=data_collator,\n",
        "train_dataset=tokenized_dataset_train,\n",
        "eval_dataset=tokenized_dataset_validation,\n",
        ")"
      ]
    },
    {
      "cell_type": "code",
      "execution_count": null,
      "metadata": {
        "colab": {
          "base_uri": "https://localhost:8080/",
          "height": 423
        },
        "id": "GSqONf7o_ssH",
        "outputId": "f83adecb-d755-4a17-85c4-2bb6ac3a8ad5"
      },
      "outputs": [
        {
          "output_type": "display_data",
          "data": {
            "text/plain": [
              "<IPython.core.display.HTML object>"
            ],
            "text/html": [
              "\n",
              "    <div>\n",
              "      \n",
              "      <progress value='1380' max='1380' style='width:300px; height:20px; vertical-align: middle;'></progress>\n",
              "      [1380/1380 05:36, Epoch 10/10]\n",
              "    </div>\n",
              "    <table border=\"1\" class=\"dataframe\">\n",
              "  <thead>\n",
              " <tr style=\"text-align: left;\">\n",
              "      <th>Epoch</th>\n",
              "      <th>Training Loss</th>\n",
              "      <th>Validation Loss</th>\n",
              "    </tr>\n",
              "  </thead>\n",
              "  <tbody>\n",
              "    <tr>\n",
              "      <td>1</td>\n",
              "      <td>No log</td>\n",
              "      <td>0.287583</td>\n",
              "    </tr>\n",
              "    <tr>\n",
              "      <td>2</td>\n",
              "      <td>No log</td>\n",
              "      <td>0.219624</td>\n",
              "    </tr>\n",
              "    <tr>\n",
              "      <td>3</td>\n",
              "      <td>No log</td>\n",
              "      <td>0.191905</td>\n",
              "    </tr>\n",
              "    <tr>\n",
              "      <td>4</td>\n",
              "      <td>0.265600</td>\n",
              "      <td>0.175357</td>\n",
              "    </tr>\n",
              "    <tr>\n",
              "      <td>5</td>\n",
              "      <td>0.265600</td>\n",
              "      <td>0.166936</td>\n",
              "    </tr>\n",
              "    <tr>\n",
              "      <td>6</td>\n",
              "      <td>0.265600</td>\n",
              "      <td>0.160294</td>\n",
              "    </tr>\n",
              "    <tr>\n",
              "      <td>7</td>\n",
              "      <td>0.265600</td>\n",
              "      <td>0.155603</td>\n",
              "    </tr>\n",
              "    <tr>\n",
              "      <td>8</td>\n",
              "      <td>0.150700</td>\n",
              "      <td>0.152738</td>\n",
              "    </tr>\n",
              "    <tr>\n",
              "      <td>9</td>\n",
              "      <td>0.150700</td>\n",
              "      <td>0.151162</td>\n",
              "    </tr>\n",
              "    <tr>\n",
              "      <td>10</td>\n",
              "      <td>0.150700</td>\n",
              "      <td>0.150382</td>\n",
              "    </tr>\n",
              "  </tbody>\n",
              "</table><p>"
            ]
          },
          "metadata": {}
        },
        {
          "output_type": "execute_result",
          "data": {
            "text/plain": [
              "TrainOutput(global_step=1380, training_loss=0.18951616701872454, metrics={'train_runtime': 337.2618, 'train_samples_per_second': 32.527, 'train_steps_per_second': 4.092, 'total_flos': 475567828500480.0, 'train_loss': 0.18951616701872454, 'epoch': 10.0})"
            ]
          },
          "metadata": {},
          "execution_count": 75
        }
      ],
      "source": [
        "trainer.train()\n"
      ]
    },
    {
      "cell_type": "code",
      "source": [
        "\n",
        "#model.module.save_pretrained('save_here')"
      ],
      "metadata": {
        "id": "lm0kYv_2Jlm7"
      },
      "execution_count": null,
      "outputs": []
    },
    {
      "cell_type": "markdown",
      "source": [
        "## Evaluation of the results"
      ],
      "metadata": {
        "id": "aN_z8SyaVkzs"
      }
    },
    {
      "cell_type": "code",
      "source": [
        "# List to store predictions\n",
        "predictions2 = []\n",
        "\n",
        "# Perform predictions on the df_test dataframe\n",
        "for i in df_test.iloc[:, 0]:\n",
        "    # Encode input text\n",
        "    inputs = tokenizer.encode(i, return_tensors=\"pt\").to(device)\n",
        "    # Generate output sequence\n",
        "    outputs = model.generate(inputs, max_length=60)\n",
        "    # Decode generated sequence\n",
        "    result = tokenizer.decode(outputs[0], skip_special_tokens=True)\n",
        "    predictions2.append(result)\n",
        "\n",
        "# Make sure df_test.iloc[:, 1] is a list of references\n",
        "references = df_test.iloc[:, 1].tolist()\n"
      ],
      "metadata": {
        "id": "Z0uTCdl3asV5"
      },
      "execution_count": null,
      "outputs": []
    },
    {
      "cell_type": "code",
      "source": [
        "similarities, mean_similarity = mean_levenshtein_distance_percentage_similarity(references, predictions2)\n",
        "print(\"Levenshtein similarity as percentage:\", similarities)\n",
        "print(\"Mean Levenshtein similarity as percentage:\", mean_similarity)"
      ],
      "metadata": {
        "id": "ugcL9kz-dBdX",
        "colab": {
          "base_uri": "https://localhost:8080/"
        },
        "outputId": "59d86e68-6686-4ae1-e120-fed69ca863db"
      },
      "execution_count": null,
      "outputs": [
        {
          "output_type": "stream",
          "name": "stdout",
          "text": [
            "Levenshtein similarity as percentage: [91.66666666666666, 32.25806451612904, 60.60606060606061, 92.85714285714286, 98.48484848484848, 50.0, 93.75, 61.111111111111114, 46.15384615384615, 73.33333333333334, 50.0, 62.16216216216216, 76.0, 0.0, 50.0, 74.28571428571429, 96.55172413793103, 80.0, 64.28571428571428, 42.85714285714286, 0.0, 60.3448275862069, 48.4375, 27.388535031847137, 96.42857142857143, 59.09090909090908, 58.82352941176471, 94.28571428571428, 96.49122807017544, 94.73684210526316, 36.0, 45.833333333333336, 56.707317073170735, 67.0, 11.111111111111116, 68.75, 97.5609756097561, 40.0, 96.7741935483871, 95.94594594594594, 75.92592592592592, 57.14285714285714, 12.0, 46.42857142857143, 97.14285714285714, 94.11764705882352, 39.13043478260869, 96.49122807017544, 69.23076923076923, 50.0, 58.82352941176471, 11.111111111111116, 48.484848484848484, 58.33333333333333, 63.1578947368421, 15.789473684210531, 51.61290322580645, 96.2962962962963, 85.41666666666666, 95.23809523809523, 93.33333333333333, 65.21739130434783, 62.28571428571428, 41.0958904109589, 50.0, 96.66666666666667, 71.42857142857143, 43.333333333333336, 15.789473684210531, 97.05882352941177, 31.32530120481928, 72.41379310344827, 4.878048780487809, 26.37362637362637, 100.0, 96.0, 19.999999999999996, 97.2972972972973, 60.0, 69.92481203007519, 95.45454545454545, 100.0, 53.84615384615385, 100.0, 34.61538461538461, 100.0, 68.0, 36.36363636363637, 32.25806451612904, 9.999999999999998, 95.83333333333334, 54.117647058823536, 60.0, 95.0, 37.93103448275862, 100.0, 25.6, 95.65217391304348, 31.25, 95.23809523809523, 96.875, 82.14285714285714, 90.9090909090909, 90.65420560747664, 44.44444444444444, 64.70588235294117, 91.66666666666666, 96.66666666666667, 100.0, 7.339449541284404, 64.28571428571428, 96.7741935483871, 27.27272727272727, 19.999999999999996, 97.91666666666666, 43.99999999999999, 44.44444444444444, 96.875, 4.797047970479706, 77.77777777777779, 85.71428571428572, 25.0, 88.23529411764706, 54.54545454545454, 94.11764705882352, 95.23809523809523, 94.44444444444444, 94.11764705882352, 42.85714285714286, 18.181818181818176, 81.25, 16.770186335403725, 87.5, 84.12698412698413, 100.0, 97.5, 81.25]\n",
            "Mean Levenshtein similarity as percentage: 64.86078458851296\n"
          ]
        }
      ]
    }
  ],
  "metadata": {
    "accelerator": "GPU",
    "colab": {
      "gpuType": "T4",
      "provenance": []
    },
    "kernelspec": {
      "display_name": "Python 3",
      "name": "python3"
    },
    "language_info": {
      "name": "python"
    },
    "widgets": {
      "application/vnd.jupyter.widget-state+json": {
        "df484132a2cf4a30b6aec6bcc8e45fb1": {
          "model_module": "@jupyter-widgets/controls",
          "model_name": "HBoxModel",
          "model_module_version": "1.5.0",
          "state": {
            "_dom_classes": [],
            "_model_module": "@jupyter-widgets/controls",
            "_model_module_version": "1.5.0",
            "_model_name": "HBoxModel",
            "_view_count": null,
            "_view_module": "@jupyter-widgets/controls",
            "_view_module_version": "1.5.0",
            "_view_name": "HBoxView",
            "box_style": "",
            "children": [
              "IPY_MODEL_9b3beff301b94260b61f758eb14cfb17",
              "IPY_MODEL_3ab68f95285e429987f8cf4e776ee4e1",
              "IPY_MODEL_02a35fea8a8447dfa0ede7d00afe9c20"
            ],
            "layout": "IPY_MODEL_bfd35e459fab48cbaf74ec2f144b074c"
          }
        },
        "9b3beff301b94260b61f758eb14cfb17": {
          "model_module": "@jupyter-widgets/controls",
          "model_name": "HTMLModel",
          "model_module_version": "1.5.0",
          "state": {
            "_dom_classes": [],
            "_model_module": "@jupyter-widgets/controls",
            "_model_module_version": "1.5.0",
            "_model_name": "HTMLModel",
            "_view_count": null,
            "_view_module": "@jupyter-widgets/controls",
            "_view_module_version": "1.5.0",
            "_view_name": "HTMLView",
            "description": "",
            "description_tooltip": null,
            "layout": "IPY_MODEL_57cc9f7d55f24b6fb23c1b5833514d8c",
            "placeholder": "​",
            "style": "IPY_MODEL_c640d7581875454f9144c02fecae1dcf",
            "value": "tokenizer_config.json: 100%"
          }
        },
        "3ab68f95285e429987f8cf4e776ee4e1": {
          "model_module": "@jupyter-widgets/controls",
          "model_name": "FloatProgressModel",
          "model_module_version": "1.5.0",
          "state": {
            "_dom_classes": [],
            "_model_module": "@jupyter-widgets/controls",
            "_model_module_version": "1.5.0",
            "_model_name": "FloatProgressModel",
            "_view_count": null,
            "_view_module": "@jupyter-widgets/controls",
            "_view_module_version": "1.5.0",
            "_view_name": "ProgressView",
            "bar_style": "success",
            "description": "",
            "description_tooltip": null,
            "layout": "IPY_MODEL_a29f9f35c0f046eaa0907c8fc542bfd7",
            "max": 2324,
            "min": 0,
            "orientation": "horizontal",
            "style": "IPY_MODEL_801eede190914f2686e2781a00ad7e48",
            "value": 2324
          }
        },
        "02a35fea8a8447dfa0ede7d00afe9c20": {
          "model_module": "@jupyter-widgets/controls",
          "model_name": "HTMLModel",
          "model_module_version": "1.5.0",
          "state": {
            "_dom_classes": [],
            "_model_module": "@jupyter-widgets/controls",
            "_model_module_version": "1.5.0",
            "_model_name": "HTMLModel",
            "_view_count": null,
            "_view_module": "@jupyter-widgets/controls",
            "_view_module_version": "1.5.0",
            "_view_name": "HTMLView",
            "description": "",
            "description_tooltip": null,
            "layout": "IPY_MODEL_c0bc8d1fdff944648c6d3e12759e7881",
            "placeholder": "​",
            "style": "IPY_MODEL_ee84e31a5a384e8db88731fdaf33fb08",
            "value": " 2.32k/2.32k [00:00&lt;00:00, 167kB/s]"
          }
        },
        "bfd35e459fab48cbaf74ec2f144b074c": {
          "model_module": "@jupyter-widgets/base",
          "model_name": "LayoutModel",
          "model_module_version": "1.2.0",
          "state": {
            "_model_module": "@jupyter-widgets/base",
            "_model_module_version": "1.2.0",
            "_model_name": "LayoutModel",
            "_view_count": null,
            "_view_module": "@jupyter-widgets/base",
            "_view_module_version": "1.2.0",
            "_view_name": "LayoutView",
            "align_content": null,
            "align_items": null,
            "align_self": null,
            "border": null,
            "bottom": null,
            "display": null,
            "flex": null,
            "flex_flow": null,
            "grid_area": null,
            "grid_auto_columns": null,
            "grid_auto_flow": null,
            "grid_auto_rows": null,
            "grid_column": null,
            "grid_gap": null,
            "grid_row": null,
            "grid_template_areas": null,
            "grid_template_columns": null,
            "grid_template_rows": null,
            "height": null,
            "justify_content": null,
            "justify_items": null,
            "left": null,
            "margin": null,
            "max_height": null,
            "max_width": null,
            "min_height": null,
            "min_width": null,
            "object_fit": null,
            "object_position": null,
            "order": null,
            "overflow": null,
            "overflow_x": null,
            "overflow_y": null,
            "padding": null,
            "right": null,
            "top": null,
            "visibility": null,
            "width": null
          }
        },
        "57cc9f7d55f24b6fb23c1b5833514d8c": {
          "model_module": "@jupyter-widgets/base",
          "model_name": "LayoutModel",
          "model_module_version": "1.2.0",
          "state": {
            "_model_module": "@jupyter-widgets/base",
            "_model_module_version": "1.2.0",
            "_model_name": "LayoutModel",
            "_view_count": null,
            "_view_module": "@jupyter-widgets/base",
            "_view_module_version": "1.2.0",
            "_view_name": "LayoutView",
            "align_content": null,
            "align_items": null,
            "align_self": null,
            "border": null,
            "bottom": null,
            "display": null,
            "flex": null,
            "flex_flow": null,
            "grid_area": null,
            "grid_auto_columns": null,
            "grid_auto_flow": null,
            "grid_auto_rows": null,
            "grid_column": null,
            "grid_gap": null,
            "grid_row": null,
            "grid_template_areas": null,
            "grid_template_columns": null,
            "grid_template_rows": null,
            "height": null,
            "justify_content": null,
            "justify_items": null,
            "left": null,
            "margin": null,
            "max_height": null,
            "max_width": null,
            "min_height": null,
            "min_width": null,
            "object_fit": null,
            "object_position": null,
            "order": null,
            "overflow": null,
            "overflow_x": null,
            "overflow_y": null,
            "padding": null,
            "right": null,
            "top": null,
            "visibility": null,
            "width": null
          }
        },
        "c640d7581875454f9144c02fecae1dcf": {
          "model_module": "@jupyter-widgets/controls",
          "model_name": "DescriptionStyleModel",
          "model_module_version": "1.5.0",
          "state": {
            "_model_module": "@jupyter-widgets/controls",
            "_model_module_version": "1.5.0",
            "_model_name": "DescriptionStyleModel",
            "_view_count": null,
            "_view_module": "@jupyter-widgets/base",
            "_view_module_version": "1.2.0",
            "_view_name": "StyleView",
            "description_width": ""
          }
        },
        "a29f9f35c0f046eaa0907c8fc542bfd7": {
          "model_module": "@jupyter-widgets/base",
          "model_name": "LayoutModel",
          "model_module_version": "1.2.0",
          "state": {
            "_model_module": "@jupyter-widgets/base",
            "_model_module_version": "1.2.0",
            "_model_name": "LayoutModel",
            "_view_count": null,
            "_view_module": "@jupyter-widgets/base",
            "_view_module_version": "1.2.0",
            "_view_name": "LayoutView",
            "align_content": null,
            "align_items": null,
            "align_self": null,
            "border": null,
            "bottom": null,
            "display": null,
            "flex": null,
            "flex_flow": null,
            "grid_area": null,
            "grid_auto_columns": null,
            "grid_auto_flow": null,
            "grid_auto_rows": null,
            "grid_column": null,
            "grid_gap": null,
            "grid_row": null,
            "grid_template_areas": null,
            "grid_template_columns": null,
            "grid_template_rows": null,
            "height": null,
            "justify_content": null,
            "justify_items": null,
            "left": null,
            "margin": null,
            "max_height": null,
            "max_width": null,
            "min_height": null,
            "min_width": null,
            "object_fit": null,
            "object_position": null,
            "order": null,
            "overflow": null,
            "overflow_x": null,
            "overflow_y": null,
            "padding": null,
            "right": null,
            "top": null,
            "visibility": null,
            "width": null
          }
        },
        "801eede190914f2686e2781a00ad7e48": {
          "model_module": "@jupyter-widgets/controls",
          "model_name": "ProgressStyleModel",
          "model_module_version": "1.5.0",
          "state": {
            "_model_module": "@jupyter-widgets/controls",
            "_model_module_version": "1.5.0",
            "_model_name": "ProgressStyleModel",
            "_view_count": null,
            "_view_module": "@jupyter-widgets/base",
            "_view_module_version": "1.2.0",
            "_view_name": "StyleView",
            "bar_color": null,
            "description_width": ""
          }
        },
        "c0bc8d1fdff944648c6d3e12759e7881": {
          "model_module": "@jupyter-widgets/base",
          "model_name": "LayoutModel",
          "model_module_version": "1.2.0",
          "state": {
            "_model_module": "@jupyter-widgets/base",
            "_model_module_version": "1.2.0",
            "_model_name": "LayoutModel",
            "_view_count": null,
            "_view_module": "@jupyter-widgets/base",
            "_view_module_version": "1.2.0",
            "_view_name": "LayoutView",
            "align_content": null,
            "align_items": null,
            "align_self": null,
            "border": null,
            "bottom": null,
            "display": null,
            "flex": null,
            "flex_flow": null,
            "grid_area": null,
            "grid_auto_columns": null,
            "grid_auto_flow": null,
            "grid_auto_rows": null,
            "grid_column": null,
            "grid_gap": null,
            "grid_row": null,
            "grid_template_areas": null,
            "grid_template_columns": null,
            "grid_template_rows": null,
            "height": null,
            "justify_content": null,
            "justify_items": null,
            "left": null,
            "margin": null,
            "max_height": null,
            "max_width": null,
            "min_height": null,
            "min_width": null,
            "object_fit": null,
            "object_position": null,
            "order": null,
            "overflow": null,
            "overflow_x": null,
            "overflow_y": null,
            "padding": null,
            "right": null,
            "top": null,
            "visibility": null,
            "width": null
          }
        },
        "ee84e31a5a384e8db88731fdaf33fb08": {
          "model_module": "@jupyter-widgets/controls",
          "model_name": "DescriptionStyleModel",
          "model_module_version": "1.5.0",
          "state": {
            "_model_module": "@jupyter-widgets/controls",
            "_model_module_version": "1.5.0",
            "_model_name": "DescriptionStyleModel",
            "_view_count": null,
            "_view_module": "@jupyter-widgets/base",
            "_view_module_version": "1.2.0",
            "_view_name": "StyleView",
            "description_width": ""
          }
        },
        "9877935c41094ab7bae97029531c63a7": {
          "model_module": "@jupyter-widgets/controls",
          "model_name": "HBoxModel",
          "model_module_version": "1.5.0",
          "state": {
            "_dom_classes": [],
            "_model_module": "@jupyter-widgets/controls",
            "_model_module_version": "1.5.0",
            "_model_name": "HBoxModel",
            "_view_count": null,
            "_view_module": "@jupyter-widgets/controls",
            "_view_module_version": "1.5.0",
            "_view_name": "HBoxView",
            "box_style": "",
            "children": [
              "IPY_MODEL_7880853113b0488a9c88c63aed4d5f35",
              "IPY_MODEL_2ffa36720344492ea056477bc0c21bbe",
              "IPY_MODEL_5f12a025ddc4433f96e0e5722ee2b86a"
            ],
            "layout": "IPY_MODEL_fc25721276ec4119b648f57380a6dc0c"
          }
        },
        "7880853113b0488a9c88c63aed4d5f35": {
          "model_module": "@jupyter-widgets/controls",
          "model_name": "HTMLModel",
          "model_module_version": "1.5.0",
          "state": {
            "_dom_classes": [],
            "_model_module": "@jupyter-widgets/controls",
            "_model_module_version": "1.5.0",
            "_model_name": "HTMLModel",
            "_view_count": null,
            "_view_module": "@jupyter-widgets/controls",
            "_view_module_version": "1.5.0",
            "_view_name": "HTMLView",
            "description": "",
            "description_tooltip": null,
            "layout": "IPY_MODEL_73f7717948e1430a828a506a067db277",
            "placeholder": "​",
            "style": "IPY_MODEL_750a29fa651e4c5fa3c2f16e32174bdc",
            "value": "spiece.model: 100%"
          }
        },
        "2ffa36720344492ea056477bc0c21bbe": {
          "model_module": "@jupyter-widgets/controls",
          "model_name": "FloatProgressModel",
          "model_module_version": "1.5.0",
          "state": {
            "_dom_classes": [],
            "_model_module": "@jupyter-widgets/controls",
            "_model_module_version": "1.5.0",
            "_model_name": "FloatProgressModel",
            "_view_count": null,
            "_view_module": "@jupyter-widgets/controls",
            "_view_module_version": "1.5.0",
            "_view_name": "ProgressView",
            "bar_style": "success",
            "description": "",
            "description_tooltip": null,
            "layout": "IPY_MODEL_b374db395a5a45b9843866507eabf1e0",
            "max": 791656,
            "min": 0,
            "orientation": "horizontal",
            "style": "IPY_MODEL_d463564368874e4ba8e323709dea4e22",
            "value": 791656
          }
        },
        "5f12a025ddc4433f96e0e5722ee2b86a": {
          "model_module": "@jupyter-widgets/controls",
          "model_name": "HTMLModel",
          "model_module_version": "1.5.0",
          "state": {
            "_dom_classes": [],
            "_model_module": "@jupyter-widgets/controls",
            "_model_module_version": "1.5.0",
            "_model_name": "HTMLModel",
            "_view_count": null,
            "_view_module": "@jupyter-widgets/controls",
            "_view_module_version": "1.5.0",
            "_view_name": "HTMLView",
            "description": "",
            "description_tooltip": null,
            "layout": "IPY_MODEL_f927c97f407e43c0add937813acbba3a",
            "placeholder": "​",
            "style": "IPY_MODEL_53d4ad723ada44afbaa25d4eb2b5d2ec",
            "value": " 792k/792k [00:00&lt;00:00, 32.8MB/s]"
          }
        },
        "fc25721276ec4119b648f57380a6dc0c": {
          "model_module": "@jupyter-widgets/base",
          "model_name": "LayoutModel",
          "model_module_version": "1.2.0",
          "state": {
            "_model_module": "@jupyter-widgets/base",
            "_model_module_version": "1.2.0",
            "_model_name": "LayoutModel",
            "_view_count": null,
            "_view_module": "@jupyter-widgets/base",
            "_view_module_version": "1.2.0",
            "_view_name": "LayoutView",
            "align_content": null,
            "align_items": null,
            "align_self": null,
            "border": null,
            "bottom": null,
            "display": null,
            "flex": null,
            "flex_flow": null,
            "grid_area": null,
            "grid_auto_columns": null,
            "grid_auto_flow": null,
            "grid_auto_rows": null,
            "grid_column": null,
            "grid_gap": null,
            "grid_row": null,
            "grid_template_areas": null,
            "grid_template_columns": null,
            "grid_template_rows": null,
            "height": null,
            "justify_content": null,
            "justify_items": null,
            "left": null,
            "margin": null,
            "max_height": null,
            "max_width": null,
            "min_height": null,
            "min_width": null,
            "object_fit": null,
            "object_position": null,
            "order": null,
            "overflow": null,
            "overflow_x": null,
            "overflow_y": null,
            "padding": null,
            "right": null,
            "top": null,
            "visibility": null,
            "width": null
          }
        },
        "73f7717948e1430a828a506a067db277": {
          "model_module": "@jupyter-widgets/base",
          "model_name": "LayoutModel",
          "model_module_version": "1.2.0",
          "state": {
            "_model_module": "@jupyter-widgets/base",
            "_model_module_version": "1.2.0",
            "_model_name": "LayoutModel",
            "_view_count": null,
            "_view_module": "@jupyter-widgets/base",
            "_view_module_version": "1.2.0",
            "_view_name": "LayoutView",
            "align_content": null,
            "align_items": null,
            "align_self": null,
            "border": null,
            "bottom": null,
            "display": null,
            "flex": null,
            "flex_flow": null,
            "grid_area": null,
            "grid_auto_columns": null,
            "grid_auto_flow": null,
            "grid_auto_rows": null,
            "grid_column": null,
            "grid_gap": null,
            "grid_row": null,
            "grid_template_areas": null,
            "grid_template_columns": null,
            "grid_template_rows": null,
            "height": null,
            "justify_content": null,
            "justify_items": null,
            "left": null,
            "margin": null,
            "max_height": null,
            "max_width": null,
            "min_height": null,
            "min_width": null,
            "object_fit": null,
            "object_position": null,
            "order": null,
            "overflow": null,
            "overflow_x": null,
            "overflow_y": null,
            "padding": null,
            "right": null,
            "top": null,
            "visibility": null,
            "width": null
          }
        },
        "750a29fa651e4c5fa3c2f16e32174bdc": {
          "model_module": "@jupyter-widgets/controls",
          "model_name": "DescriptionStyleModel",
          "model_module_version": "1.5.0",
          "state": {
            "_model_module": "@jupyter-widgets/controls",
            "_model_module_version": "1.5.0",
            "_model_name": "DescriptionStyleModel",
            "_view_count": null,
            "_view_module": "@jupyter-widgets/base",
            "_view_module_version": "1.2.0",
            "_view_name": "StyleView",
            "description_width": ""
          }
        },
        "b374db395a5a45b9843866507eabf1e0": {
          "model_module": "@jupyter-widgets/base",
          "model_name": "LayoutModel",
          "model_module_version": "1.2.0",
          "state": {
            "_model_module": "@jupyter-widgets/base",
            "_model_module_version": "1.2.0",
            "_model_name": "LayoutModel",
            "_view_count": null,
            "_view_module": "@jupyter-widgets/base",
            "_view_module_version": "1.2.0",
            "_view_name": "LayoutView",
            "align_content": null,
            "align_items": null,
            "align_self": null,
            "border": null,
            "bottom": null,
            "display": null,
            "flex": null,
            "flex_flow": null,
            "grid_area": null,
            "grid_auto_columns": null,
            "grid_auto_flow": null,
            "grid_auto_rows": null,
            "grid_column": null,
            "grid_gap": null,
            "grid_row": null,
            "grid_template_areas": null,
            "grid_template_columns": null,
            "grid_template_rows": null,
            "height": null,
            "justify_content": null,
            "justify_items": null,
            "left": null,
            "margin": null,
            "max_height": null,
            "max_width": null,
            "min_height": null,
            "min_width": null,
            "object_fit": null,
            "object_position": null,
            "order": null,
            "overflow": null,
            "overflow_x": null,
            "overflow_y": null,
            "padding": null,
            "right": null,
            "top": null,
            "visibility": null,
            "width": null
          }
        },
        "d463564368874e4ba8e323709dea4e22": {
          "model_module": "@jupyter-widgets/controls",
          "model_name": "ProgressStyleModel",
          "model_module_version": "1.5.0",
          "state": {
            "_model_module": "@jupyter-widgets/controls",
            "_model_module_version": "1.5.0",
            "_model_name": "ProgressStyleModel",
            "_view_count": null,
            "_view_module": "@jupyter-widgets/base",
            "_view_module_version": "1.2.0",
            "_view_name": "StyleView",
            "bar_color": null,
            "description_width": ""
          }
        },
        "f927c97f407e43c0add937813acbba3a": {
          "model_module": "@jupyter-widgets/base",
          "model_name": "LayoutModel",
          "model_module_version": "1.2.0",
          "state": {
            "_model_module": "@jupyter-widgets/base",
            "_model_module_version": "1.2.0",
            "_model_name": "LayoutModel",
            "_view_count": null,
            "_view_module": "@jupyter-widgets/base",
            "_view_module_version": "1.2.0",
            "_view_name": "LayoutView",
            "align_content": null,
            "align_items": null,
            "align_self": null,
            "border": null,
            "bottom": null,
            "display": null,
            "flex": null,
            "flex_flow": null,
            "grid_area": null,
            "grid_auto_columns": null,
            "grid_auto_flow": null,
            "grid_auto_rows": null,
            "grid_column": null,
            "grid_gap": null,
            "grid_row": null,
            "grid_template_areas": null,
            "grid_template_columns": null,
            "grid_template_rows": null,
            "height": null,
            "justify_content": null,
            "justify_items": null,
            "left": null,
            "margin": null,
            "max_height": null,
            "max_width": null,
            "min_height": null,
            "min_width": null,
            "object_fit": null,
            "object_position": null,
            "order": null,
            "overflow": null,
            "overflow_x": null,
            "overflow_y": null,
            "padding": null,
            "right": null,
            "top": null,
            "visibility": null,
            "width": null
          }
        },
        "53d4ad723ada44afbaa25d4eb2b5d2ec": {
          "model_module": "@jupyter-widgets/controls",
          "model_name": "DescriptionStyleModel",
          "model_module_version": "1.5.0",
          "state": {
            "_model_module": "@jupyter-widgets/controls",
            "_model_module_version": "1.5.0",
            "_model_name": "DescriptionStyleModel",
            "_view_count": null,
            "_view_module": "@jupyter-widgets/base",
            "_view_module_version": "1.2.0",
            "_view_name": "StyleView",
            "description_width": ""
          }
        },
        "ae91ba39c797426c98d4478f27baa819": {
          "model_module": "@jupyter-widgets/controls",
          "model_name": "HBoxModel",
          "model_module_version": "1.5.0",
          "state": {
            "_dom_classes": [],
            "_model_module": "@jupyter-widgets/controls",
            "_model_module_version": "1.5.0",
            "_model_name": "HBoxModel",
            "_view_count": null,
            "_view_module": "@jupyter-widgets/controls",
            "_view_module_version": "1.5.0",
            "_view_name": "HBoxView",
            "box_style": "",
            "children": [
              "IPY_MODEL_ca2904134901427fb258bb82a36c3a02",
              "IPY_MODEL_eb1641968803419791e4a9b3babc55bb",
              "IPY_MODEL_f4945adde21a42c98b31c1bb3343749f"
            ],
            "layout": "IPY_MODEL_fe759d72af9f4cb3a5107837e51f1fcb"
          }
        },
        "ca2904134901427fb258bb82a36c3a02": {
          "model_module": "@jupyter-widgets/controls",
          "model_name": "HTMLModel",
          "model_module_version": "1.5.0",
          "state": {
            "_dom_classes": [],
            "_model_module": "@jupyter-widgets/controls",
            "_model_module_version": "1.5.0",
            "_model_name": "HTMLModel",
            "_view_count": null,
            "_view_module": "@jupyter-widgets/controls",
            "_view_module_version": "1.5.0",
            "_view_name": "HTMLView",
            "description": "",
            "description_tooltip": null,
            "layout": "IPY_MODEL_7dd2e31d92e94af89a7ce4920f2e2098",
            "placeholder": "​",
            "style": "IPY_MODEL_505dd8aed81e45babf526e04efdb0c4d",
            "value": "tokenizer.json: 100%"
          }
        },
        "eb1641968803419791e4a9b3babc55bb": {
          "model_module": "@jupyter-widgets/controls",
          "model_name": "FloatProgressModel",
          "model_module_version": "1.5.0",
          "state": {
            "_dom_classes": [],
            "_model_module": "@jupyter-widgets/controls",
            "_model_module_version": "1.5.0",
            "_model_name": "FloatProgressModel",
            "_view_count": null,
            "_view_module": "@jupyter-widgets/controls",
            "_view_module_version": "1.5.0",
            "_view_name": "ProgressView",
            "bar_style": "success",
            "description": "",
            "description_tooltip": null,
            "layout": "IPY_MODEL_383bef196c8b45d39178aa9f11051367",
            "max": 1389353,
            "min": 0,
            "orientation": "horizontal",
            "style": "IPY_MODEL_2b1307f4c75245c49616172f9b1e62df",
            "value": 1389353
          }
        },
        "f4945adde21a42c98b31c1bb3343749f": {
          "model_module": "@jupyter-widgets/controls",
          "model_name": "HTMLModel",
          "model_module_version": "1.5.0",
          "state": {
            "_dom_classes": [],
            "_model_module": "@jupyter-widgets/controls",
            "_model_module_version": "1.5.0",
            "_model_name": "HTMLModel",
            "_view_count": null,
            "_view_module": "@jupyter-widgets/controls",
            "_view_module_version": "1.5.0",
            "_view_name": "HTMLView",
            "description": "",
            "description_tooltip": null,
            "layout": "IPY_MODEL_c07b43d30daf4714bd3ee1f443c4e239",
            "placeholder": "​",
            "style": "IPY_MODEL_69d7e06d329643f19707add888e86500",
            "value": " 1.39M/1.39M [00:00&lt;00:00, 5.50MB/s]"
          }
        },
        "fe759d72af9f4cb3a5107837e51f1fcb": {
          "model_module": "@jupyter-widgets/base",
          "model_name": "LayoutModel",
          "model_module_version": "1.2.0",
          "state": {
            "_model_module": "@jupyter-widgets/base",
            "_model_module_version": "1.2.0",
            "_model_name": "LayoutModel",
            "_view_count": null,
            "_view_module": "@jupyter-widgets/base",
            "_view_module_version": "1.2.0",
            "_view_name": "LayoutView",
            "align_content": null,
            "align_items": null,
            "align_self": null,
            "border": null,
            "bottom": null,
            "display": null,
            "flex": null,
            "flex_flow": null,
            "grid_area": null,
            "grid_auto_columns": null,
            "grid_auto_flow": null,
            "grid_auto_rows": null,
            "grid_column": null,
            "grid_gap": null,
            "grid_row": null,
            "grid_template_areas": null,
            "grid_template_columns": null,
            "grid_template_rows": null,
            "height": null,
            "justify_content": null,
            "justify_items": null,
            "left": null,
            "margin": null,
            "max_height": null,
            "max_width": null,
            "min_height": null,
            "min_width": null,
            "object_fit": null,
            "object_position": null,
            "order": null,
            "overflow": null,
            "overflow_x": null,
            "overflow_y": null,
            "padding": null,
            "right": null,
            "top": null,
            "visibility": null,
            "width": null
          }
        },
        "7dd2e31d92e94af89a7ce4920f2e2098": {
          "model_module": "@jupyter-widgets/base",
          "model_name": "LayoutModel",
          "model_module_version": "1.2.0",
          "state": {
            "_model_module": "@jupyter-widgets/base",
            "_model_module_version": "1.2.0",
            "_model_name": "LayoutModel",
            "_view_count": null,
            "_view_module": "@jupyter-widgets/base",
            "_view_module_version": "1.2.0",
            "_view_name": "LayoutView",
            "align_content": null,
            "align_items": null,
            "align_self": null,
            "border": null,
            "bottom": null,
            "display": null,
            "flex": null,
            "flex_flow": null,
            "grid_area": null,
            "grid_auto_columns": null,
            "grid_auto_flow": null,
            "grid_auto_rows": null,
            "grid_column": null,
            "grid_gap": null,
            "grid_row": null,
            "grid_template_areas": null,
            "grid_template_columns": null,
            "grid_template_rows": null,
            "height": null,
            "justify_content": null,
            "justify_items": null,
            "left": null,
            "margin": null,
            "max_height": null,
            "max_width": null,
            "min_height": null,
            "min_width": null,
            "object_fit": null,
            "object_position": null,
            "order": null,
            "overflow": null,
            "overflow_x": null,
            "overflow_y": null,
            "padding": null,
            "right": null,
            "top": null,
            "visibility": null,
            "width": null
          }
        },
        "505dd8aed81e45babf526e04efdb0c4d": {
          "model_module": "@jupyter-widgets/controls",
          "model_name": "DescriptionStyleModel",
          "model_module_version": "1.5.0",
          "state": {
            "_model_module": "@jupyter-widgets/controls",
            "_model_module_version": "1.5.0",
            "_model_name": "DescriptionStyleModel",
            "_view_count": null,
            "_view_module": "@jupyter-widgets/base",
            "_view_module_version": "1.2.0",
            "_view_name": "StyleView",
            "description_width": ""
          }
        },
        "383bef196c8b45d39178aa9f11051367": {
          "model_module": "@jupyter-widgets/base",
          "model_name": "LayoutModel",
          "model_module_version": "1.2.0",
          "state": {
            "_model_module": "@jupyter-widgets/base",
            "_model_module_version": "1.2.0",
            "_model_name": "LayoutModel",
            "_view_count": null,
            "_view_module": "@jupyter-widgets/base",
            "_view_module_version": "1.2.0",
            "_view_name": "LayoutView",
            "align_content": null,
            "align_items": null,
            "align_self": null,
            "border": null,
            "bottom": null,
            "display": null,
            "flex": null,
            "flex_flow": null,
            "grid_area": null,
            "grid_auto_columns": null,
            "grid_auto_flow": null,
            "grid_auto_rows": null,
            "grid_column": null,
            "grid_gap": null,
            "grid_row": null,
            "grid_template_areas": null,
            "grid_template_columns": null,
            "grid_template_rows": null,
            "height": null,
            "justify_content": null,
            "justify_items": null,
            "left": null,
            "margin": null,
            "max_height": null,
            "max_width": null,
            "min_height": null,
            "min_width": null,
            "object_fit": null,
            "object_position": null,
            "order": null,
            "overflow": null,
            "overflow_x": null,
            "overflow_y": null,
            "padding": null,
            "right": null,
            "top": null,
            "visibility": null,
            "width": null
          }
        },
        "2b1307f4c75245c49616172f9b1e62df": {
          "model_module": "@jupyter-widgets/controls",
          "model_name": "ProgressStyleModel",
          "model_module_version": "1.5.0",
          "state": {
            "_model_module": "@jupyter-widgets/controls",
            "_model_module_version": "1.5.0",
            "_model_name": "ProgressStyleModel",
            "_view_count": null,
            "_view_module": "@jupyter-widgets/base",
            "_view_module_version": "1.2.0",
            "_view_name": "StyleView",
            "bar_color": null,
            "description_width": ""
          }
        },
        "c07b43d30daf4714bd3ee1f443c4e239": {
          "model_module": "@jupyter-widgets/base",
          "model_name": "LayoutModel",
          "model_module_version": "1.2.0",
          "state": {
            "_model_module": "@jupyter-widgets/base",
            "_model_module_version": "1.2.0",
            "_model_name": "LayoutModel",
            "_view_count": null,
            "_view_module": "@jupyter-widgets/base",
            "_view_module_version": "1.2.0",
            "_view_name": "LayoutView",
            "align_content": null,
            "align_items": null,
            "align_self": null,
            "border": null,
            "bottom": null,
            "display": null,
            "flex": null,
            "flex_flow": null,
            "grid_area": null,
            "grid_auto_columns": null,
            "grid_auto_flow": null,
            "grid_auto_rows": null,
            "grid_column": null,
            "grid_gap": null,
            "grid_row": null,
            "grid_template_areas": null,
            "grid_template_columns": null,
            "grid_template_rows": null,
            "height": null,
            "justify_content": null,
            "justify_items": null,
            "left": null,
            "margin": null,
            "max_height": null,
            "max_width": null,
            "min_height": null,
            "min_width": null,
            "object_fit": null,
            "object_position": null,
            "order": null,
            "overflow": null,
            "overflow_x": null,
            "overflow_y": null,
            "padding": null,
            "right": null,
            "top": null,
            "visibility": null,
            "width": null
          }
        },
        "69d7e06d329643f19707add888e86500": {
          "model_module": "@jupyter-widgets/controls",
          "model_name": "DescriptionStyleModel",
          "model_module_version": "1.5.0",
          "state": {
            "_model_module": "@jupyter-widgets/controls",
            "_model_module_version": "1.5.0",
            "_model_name": "DescriptionStyleModel",
            "_view_count": null,
            "_view_module": "@jupyter-widgets/base",
            "_view_module_version": "1.2.0",
            "_view_name": "StyleView",
            "description_width": ""
          }
        },
        "1540599244614f6a920159715884801f": {
          "model_module": "@jupyter-widgets/controls",
          "model_name": "HBoxModel",
          "model_module_version": "1.5.0",
          "state": {
            "_dom_classes": [],
            "_model_module": "@jupyter-widgets/controls",
            "_model_module_version": "1.5.0",
            "_model_name": "HBoxModel",
            "_view_count": null,
            "_view_module": "@jupyter-widgets/controls",
            "_view_module_version": "1.5.0",
            "_view_name": "HBoxView",
            "box_style": "",
            "children": [
              "IPY_MODEL_3ae476a20d9d42ca8f2c920973233a4c",
              "IPY_MODEL_9ae004b1dac64d6f949e24bf0c17e390",
              "IPY_MODEL_3b6af722d52940dca6fd941e0be6918c"
            ],
            "layout": "IPY_MODEL_133bd5d895cb415ca34b36fc153f2cf7"
          }
        },
        "3ae476a20d9d42ca8f2c920973233a4c": {
          "model_module": "@jupyter-widgets/controls",
          "model_name": "HTMLModel",
          "model_module_version": "1.5.0",
          "state": {
            "_dom_classes": [],
            "_model_module": "@jupyter-widgets/controls",
            "_model_module_version": "1.5.0",
            "_model_name": "HTMLModel",
            "_view_count": null,
            "_view_module": "@jupyter-widgets/controls",
            "_view_module_version": "1.5.0",
            "_view_name": "HTMLView",
            "description": "",
            "description_tooltip": null,
            "layout": "IPY_MODEL_6f98ff31cbd04b47a0004ae2209dde95",
            "placeholder": "​",
            "style": "IPY_MODEL_e7817220539244f1967cb54e7215348d",
            "value": "config.json: 100%"
          }
        },
        "9ae004b1dac64d6f949e24bf0c17e390": {
          "model_module": "@jupyter-widgets/controls",
          "model_name": "FloatProgressModel",
          "model_module_version": "1.5.0",
          "state": {
            "_dom_classes": [],
            "_model_module": "@jupyter-widgets/controls",
            "_model_module_version": "1.5.0",
            "_model_name": "FloatProgressModel",
            "_view_count": null,
            "_view_module": "@jupyter-widgets/controls",
            "_view_module_version": "1.5.0",
            "_view_name": "ProgressView",
            "bar_style": "success",
            "description": "",
            "description_tooltip": null,
            "layout": "IPY_MODEL_3e9a33fc95dd4c64aef6d42a6c6d0297",
            "max": 1206,
            "min": 0,
            "orientation": "horizontal",
            "style": "IPY_MODEL_2601e2e4c9ae467eba3af30211abacfb",
            "value": 1206
          }
        },
        "3b6af722d52940dca6fd941e0be6918c": {
          "model_module": "@jupyter-widgets/controls",
          "model_name": "HTMLModel",
          "model_module_version": "1.5.0",
          "state": {
            "_dom_classes": [],
            "_model_module": "@jupyter-widgets/controls",
            "_model_module_version": "1.5.0",
            "_model_name": "HTMLModel",
            "_view_count": null,
            "_view_module": "@jupyter-widgets/controls",
            "_view_module_version": "1.5.0",
            "_view_name": "HTMLView",
            "description": "",
            "description_tooltip": null,
            "layout": "IPY_MODEL_100c4dc9c79b4ec881f7a879caf24f5e",
            "placeholder": "​",
            "style": "IPY_MODEL_d254615ae3724f879e5dbf0ead04d54a",
            "value": " 1.21k/1.21k [00:00&lt;00:00, 85.9kB/s]"
          }
        },
        "133bd5d895cb415ca34b36fc153f2cf7": {
          "model_module": "@jupyter-widgets/base",
          "model_name": "LayoutModel",
          "model_module_version": "1.2.0",
          "state": {
            "_model_module": "@jupyter-widgets/base",
            "_model_module_version": "1.2.0",
            "_model_name": "LayoutModel",
            "_view_count": null,
            "_view_module": "@jupyter-widgets/base",
            "_view_module_version": "1.2.0",
            "_view_name": "LayoutView",
            "align_content": null,
            "align_items": null,
            "align_self": null,
            "border": null,
            "bottom": null,
            "display": null,
            "flex": null,
            "flex_flow": null,
            "grid_area": null,
            "grid_auto_columns": null,
            "grid_auto_flow": null,
            "grid_auto_rows": null,
            "grid_column": null,
            "grid_gap": null,
            "grid_row": null,
            "grid_template_areas": null,
            "grid_template_columns": null,
            "grid_template_rows": null,
            "height": null,
            "justify_content": null,
            "justify_items": null,
            "left": null,
            "margin": null,
            "max_height": null,
            "max_width": null,
            "min_height": null,
            "min_width": null,
            "object_fit": null,
            "object_position": null,
            "order": null,
            "overflow": null,
            "overflow_x": null,
            "overflow_y": null,
            "padding": null,
            "right": null,
            "top": null,
            "visibility": null,
            "width": null
          }
        },
        "6f98ff31cbd04b47a0004ae2209dde95": {
          "model_module": "@jupyter-widgets/base",
          "model_name": "LayoutModel",
          "model_module_version": "1.2.0",
          "state": {
            "_model_module": "@jupyter-widgets/base",
            "_model_module_version": "1.2.0",
            "_model_name": "LayoutModel",
            "_view_count": null,
            "_view_module": "@jupyter-widgets/base",
            "_view_module_version": "1.2.0",
            "_view_name": "LayoutView",
            "align_content": null,
            "align_items": null,
            "align_self": null,
            "border": null,
            "bottom": null,
            "display": null,
            "flex": null,
            "flex_flow": null,
            "grid_area": null,
            "grid_auto_columns": null,
            "grid_auto_flow": null,
            "grid_auto_rows": null,
            "grid_column": null,
            "grid_gap": null,
            "grid_row": null,
            "grid_template_areas": null,
            "grid_template_columns": null,
            "grid_template_rows": null,
            "height": null,
            "justify_content": null,
            "justify_items": null,
            "left": null,
            "margin": null,
            "max_height": null,
            "max_width": null,
            "min_height": null,
            "min_width": null,
            "object_fit": null,
            "object_position": null,
            "order": null,
            "overflow": null,
            "overflow_x": null,
            "overflow_y": null,
            "padding": null,
            "right": null,
            "top": null,
            "visibility": null,
            "width": null
          }
        },
        "e7817220539244f1967cb54e7215348d": {
          "model_module": "@jupyter-widgets/controls",
          "model_name": "DescriptionStyleModel",
          "model_module_version": "1.5.0",
          "state": {
            "_model_module": "@jupyter-widgets/controls",
            "_model_module_version": "1.5.0",
            "_model_name": "DescriptionStyleModel",
            "_view_count": null,
            "_view_module": "@jupyter-widgets/base",
            "_view_module_version": "1.2.0",
            "_view_name": "StyleView",
            "description_width": ""
          }
        },
        "3e9a33fc95dd4c64aef6d42a6c6d0297": {
          "model_module": "@jupyter-widgets/base",
          "model_name": "LayoutModel",
          "model_module_version": "1.2.0",
          "state": {
            "_model_module": "@jupyter-widgets/base",
            "_model_module_version": "1.2.0",
            "_model_name": "LayoutModel",
            "_view_count": null,
            "_view_module": "@jupyter-widgets/base",
            "_view_module_version": "1.2.0",
            "_view_name": "LayoutView",
            "align_content": null,
            "align_items": null,
            "align_self": null,
            "border": null,
            "bottom": null,
            "display": null,
            "flex": null,
            "flex_flow": null,
            "grid_area": null,
            "grid_auto_columns": null,
            "grid_auto_flow": null,
            "grid_auto_rows": null,
            "grid_column": null,
            "grid_gap": null,
            "grid_row": null,
            "grid_template_areas": null,
            "grid_template_columns": null,
            "grid_template_rows": null,
            "height": null,
            "justify_content": null,
            "justify_items": null,
            "left": null,
            "margin": null,
            "max_height": null,
            "max_width": null,
            "min_height": null,
            "min_width": null,
            "object_fit": null,
            "object_position": null,
            "order": null,
            "overflow": null,
            "overflow_x": null,
            "overflow_y": null,
            "padding": null,
            "right": null,
            "top": null,
            "visibility": null,
            "width": null
          }
        },
        "2601e2e4c9ae467eba3af30211abacfb": {
          "model_module": "@jupyter-widgets/controls",
          "model_name": "ProgressStyleModel",
          "model_module_version": "1.5.0",
          "state": {
            "_model_module": "@jupyter-widgets/controls",
            "_model_module_version": "1.5.0",
            "_model_name": "ProgressStyleModel",
            "_view_count": null,
            "_view_module": "@jupyter-widgets/base",
            "_view_module_version": "1.2.0",
            "_view_name": "StyleView",
            "bar_color": null,
            "description_width": ""
          }
        },
        "100c4dc9c79b4ec881f7a879caf24f5e": {
          "model_module": "@jupyter-widgets/base",
          "model_name": "LayoutModel",
          "model_module_version": "1.2.0",
          "state": {
            "_model_module": "@jupyter-widgets/base",
            "_model_module_version": "1.2.0",
            "_model_name": "LayoutModel",
            "_view_count": null,
            "_view_module": "@jupyter-widgets/base",
            "_view_module_version": "1.2.0",
            "_view_name": "LayoutView",
            "align_content": null,
            "align_items": null,
            "align_self": null,
            "border": null,
            "bottom": null,
            "display": null,
            "flex": null,
            "flex_flow": null,
            "grid_area": null,
            "grid_auto_columns": null,
            "grid_auto_flow": null,
            "grid_auto_rows": null,
            "grid_column": null,
            "grid_gap": null,
            "grid_row": null,
            "grid_template_areas": null,
            "grid_template_columns": null,
            "grid_template_rows": null,
            "height": null,
            "justify_content": null,
            "justify_items": null,
            "left": null,
            "margin": null,
            "max_height": null,
            "max_width": null,
            "min_height": null,
            "min_width": null,
            "object_fit": null,
            "object_position": null,
            "order": null,
            "overflow": null,
            "overflow_x": null,
            "overflow_y": null,
            "padding": null,
            "right": null,
            "top": null,
            "visibility": null,
            "width": null
          }
        },
        "d254615ae3724f879e5dbf0ead04d54a": {
          "model_module": "@jupyter-widgets/controls",
          "model_name": "DescriptionStyleModel",
          "model_module_version": "1.5.0",
          "state": {
            "_model_module": "@jupyter-widgets/controls",
            "_model_module_version": "1.5.0",
            "_model_name": "DescriptionStyleModel",
            "_view_count": null,
            "_view_module": "@jupyter-widgets/base",
            "_view_module_version": "1.2.0",
            "_view_name": "StyleView",
            "description_width": ""
          }
        },
        "f8e926982adb4319a99d30e7294c9b21": {
          "model_module": "@jupyter-widgets/controls",
          "model_name": "HBoxModel",
          "model_module_version": "1.5.0",
          "state": {
            "_dom_classes": [],
            "_model_module": "@jupyter-widgets/controls",
            "_model_module_version": "1.5.0",
            "_model_name": "HBoxModel",
            "_view_count": null,
            "_view_module": "@jupyter-widgets/controls",
            "_view_module_version": "1.5.0",
            "_view_name": "HBoxView",
            "box_style": "",
            "children": [
              "IPY_MODEL_9f733445d8e1425c97eaf2edc73a66d6",
              "IPY_MODEL_e0e9086d419e466ba2012e7528eae5aa",
              "IPY_MODEL_8e51724d4a2c4dfea06dc98aa364d6d3"
            ],
            "layout": "IPY_MODEL_8ed1210108554fdf9d8f4f418480f7fa"
          }
        },
        "9f733445d8e1425c97eaf2edc73a66d6": {
          "model_module": "@jupyter-widgets/controls",
          "model_name": "HTMLModel",
          "model_module_version": "1.5.0",
          "state": {
            "_dom_classes": [],
            "_model_module": "@jupyter-widgets/controls",
            "_model_module_version": "1.5.0",
            "_model_name": "HTMLModel",
            "_view_count": null,
            "_view_module": "@jupyter-widgets/controls",
            "_view_module_version": "1.5.0",
            "_view_name": "HTMLView",
            "description": "",
            "description_tooltip": null,
            "layout": "IPY_MODEL_61c4725fecf142eeace6682305c2f05c",
            "placeholder": "​",
            "style": "IPY_MODEL_cf5f3955fd5548ec88244e46cb86260c",
            "value": "model.safetensors: 100%"
          }
        },
        "e0e9086d419e466ba2012e7528eae5aa": {
          "model_module": "@jupyter-widgets/controls",
          "model_name": "FloatProgressModel",
          "model_module_version": "1.5.0",
          "state": {
            "_dom_classes": [],
            "_model_module": "@jupyter-widgets/controls",
            "_model_module_version": "1.5.0",
            "_model_name": "FloatProgressModel",
            "_view_count": null,
            "_view_module": "@jupyter-widgets/controls",
            "_view_module_version": "1.5.0",
            "_view_name": "ProgressView",
            "bar_style": "success",
            "description": "",
            "description_tooltip": null,
            "layout": "IPY_MODEL_ffefce608bab43b6840512e9139249e5",
            "max": 242043056,
            "min": 0,
            "orientation": "horizontal",
            "style": "IPY_MODEL_b7765b20f3844428b50b526e2776b8a3",
            "value": 242043056
          }
        },
        "8e51724d4a2c4dfea06dc98aa364d6d3": {
          "model_module": "@jupyter-widgets/controls",
          "model_name": "HTMLModel",
          "model_module_version": "1.5.0",
          "state": {
            "_dom_classes": [],
            "_model_module": "@jupyter-widgets/controls",
            "_model_module_version": "1.5.0",
            "_model_name": "HTMLModel",
            "_view_count": null,
            "_view_module": "@jupyter-widgets/controls",
            "_view_module_version": "1.5.0",
            "_view_name": "HTMLView",
            "description": "",
            "description_tooltip": null,
            "layout": "IPY_MODEL_0c45ed839b8d429386914725b5bd8c67",
            "placeholder": "​",
            "style": "IPY_MODEL_8ae1331fd6e0447fa58e942961213d21",
            "value": " 242M/242M [00:02&lt;00:00, 98.0MB/s]"
          }
        },
        "8ed1210108554fdf9d8f4f418480f7fa": {
          "model_module": "@jupyter-widgets/base",
          "model_name": "LayoutModel",
          "model_module_version": "1.2.0",
          "state": {
            "_model_module": "@jupyter-widgets/base",
            "_model_module_version": "1.2.0",
            "_model_name": "LayoutModel",
            "_view_count": null,
            "_view_module": "@jupyter-widgets/base",
            "_view_module_version": "1.2.0",
            "_view_name": "LayoutView",
            "align_content": null,
            "align_items": null,
            "align_self": null,
            "border": null,
            "bottom": null,
            "display": null,
            "flex": null,
            "flex_flow": null,
            "grid_area": null,
            "grid_auto_columns": null,
            "grid_auto_flow": null,
            "grid_auto_rows": null,
            "grid_column": null,
            "grid_gap": null,
            "grid_row": null,
            "grid_template_areas": null,
            "grid_template_columns": null,
            "grid_template_rows": null,
            "height": null,
            "justify_content": null,
            "justify_items": null,
            "left": null,
            "margin": null,
            "max_height": null,
            "max_width": null,
            "min_height": null,
            "min_width": null,
            "object_fit": null,
            "object_position": null,
            "order": null,
            "overflow": null,
            "overflow_x": null,
            "overflow_y": null,
            "padding": null,
            "right": null,
            "top": null,
            "visibility": null,
            "width": null
          }
        },
        "61c4725fecf142eeace6682305c2f05c": {
          "model_module": "@jupyter-widgets/base",
          "model_name": "LayoutModel",
          "model_module_version": "1.2.0",
          "state": {
            "_model_module": "@jupyter-widgets/base",
            "_model_module_version": "1.2.0",
            "_model_name": "LayoutModel",
            "_view_count": null,
            "_view_module": "@jupyter-widgets/base",
            "_view_module_version": "1.2.0",
            "_view_name": "LayoutView",
            "align_content": null,
            "align_items": null,
            "align_self": null,
            "border": null,
            "bottom": null,
            "display": null,
            "flex": null,
            "flex_flow": null,
            "grid_area": null,
            "grid_auto_columns": null,
            "grid_auto_flow": null,
            "grid_auto_rows": null,
            "grid_column": null,
            "grid_gap": null,
            "grid_row": null,
            "grid_template_areas": null,
            "grid_template_columns": null,
            "grid_template_rows": null,
            "height": null,
            "justify_content": null,
            "justify_items": null,
            "left": null,
            "margin": null,
            "max_height": null,
            "max_width": null,
            "min_height": null,
            "min_width": null,
            "object_fit": null,
            "object_position": null,
            "order": null,
            "overflow": null,
            "overflow_x": null,
            "overflow_y": null,
            "padding": null,
            "right": null,
            "top": null,
            "visibility": null,
            "width": null
          }
        },
        "cf5f3955fd5548ec88244e46cb86260c": {
          "model_module": "@jupyter-widgets/controls",
          "model_name": "DescriptionStyleModel",
          "model_module_version": "1.5.0",
          "state": {
            "_model_module": "@jupyter-widgets/controls",
            "_model_module_version": "1.5.0",
            "_model_name": "DescriptionStyleModel",
            "_view_count": null,
            "_view_module": "@jupyter-widgets/base",
            "_view_module_version": "1.2.0",
            "_view_name": "StyleView",
            "description_width": ""
          }
        },
        "ffefce608bab43b6840512e9139249e5": {
          "model_module": "@jupyter-widgets/base",
          "model_name": "LayoutModel",
          "model_module_version": "1.2.0",
          "state": {
            "_model_module": "@jupyter-widgets/base",
            "_model_module_version": "1.2.0",
            "_model_name": "LayoutModel",
            "_view_count": null,
            "_view_module": "@jupyter-widgets/base",
            "_view_module_version": "1.2.0",
            "_view_name": "LayoutView",
            "align_content": null,
            "align_items": null,
            "align_self": null,
            "border": null,
            "bottom": null,
            "display": null,
            "flex": null,
            "flex_flow": null,
            "grid_area": null,
            "grid_auto_columns": null,
            "grid_auto_flow": null,
            "grid_auto_rows": null,
            "grid_column": null,
            "grid_gap": null,
            "grid_row": null,
            "grid_template_areas": null,
            "grid_template_columns": null,
            "grid_template_rows": null,
            "height": null,
            "justify_content": null,
            "justify_items": null,
            "left": null,
            "margin": null,
            "max_height": null,
            "max_width": null,
            "min_height": null,
            "min_width": null,
            "object_fit": null,
            "object_position": null,
            "order": null,
            "overflow": null,
            "overflow_x": null,
            "overflow_y": null,
            "padding": null,
            "right": null,
            "top": null,
            "visibility": null,
            "width": null
          }
        },
        "b7765b20f3844428b50b526e2776b8a3": {
          "model_module": "@jupyter-widgets/controls",
          "model_name": "ProgressStyleModel",
          "model_module_version": "1.5.0",
          "state": {
            "_model_module": "@jupyter-widgets/controls",
            "_model_module_version": "1.5.0",
            "_model_name": "ProgressStyleModel",
            "_view_count": null,
            "_view_module": "@jupyter-widgets/base",
            "_view_module_version": "1.2.0",
            "_view_name": "StyleView",
            "bar_color": null,
            "description_width": ""
          }
        },
        "0c45ed839b8d429386914725b5bd8c67": {
          "model_module": "@jupyter-widgets/base",
          "model_name": "LayoutModel",
          "model_module_version": "1.2.0",
          "state": {
            "_model_module": "@jupyter-widgets/base",
            "_model_module_version": "1.2.0",
            "_model_name": "LayoutModel",
            "_view_count": null,
            "_view_module": "@jupyter-widgets/base",
            "_view_module_version": "1.2.0",
            "_view_name": "LayoutView",
            "align_content": null,
            "align_items": null,
            "align_self": null,
            "border": null,
            "bottom": null,
            "display": null,
            "flex": null,
            "flex_flow": null,
            "grid_area": null,
            "grid_auto_columns": null,
            "grid_auto_flow": null,
            "grid_auto_rows": null,
            "grid_column": null,
            "grid_gap": null,
            "grid_row": null,
            "grid_template_areas": null,
            "grid_template_columns": null,
            "grid_template_rows": null,
            "height": null,
            "justify_content": null,
            "justify_items": null,
            "left": null,
            "margin": null,
            "max_height": null,
            "max_width": null,
            "min_height": null,
            "min_width": null,
            "object_fit": null,
            "object_position": null,
            "order": null,
            "overflow": null,
            "overflow_x": null,
            "overflow_y": null,
            "padding": null,
            "right": null,
            "top": null,
            "visibility": null,
            "width": null
          }
        },
        "8ae1331fd6e0447fa58e942961213d21": {
          "model_module": "@jupyter-widgets/controls",
          "model_name": "DescriptionStyleModel",
          "model_module_version": "1.5.0",
          "state": {
            "_model_module": "@jupyter-widgets/controls",
            "_model_module_version": "1.5.0",
            "_model_name": "DescriptionStyleModel",
            "_view_count": null,
            "_view_module": "@jupyter-widgets/base",
            "_view_module_version": "1.2.0",
            "_view_name": "StyleView",
            "description_width": ""
          }
        },
        "302a8e0da5dd482e852b2d11c8151642": {
          "model_module": "@jupyter-widgets/controls",
          "model_name": "HBoxModel",
          "model_module_version": "1.5.0",
          "state": {
            "_dom_classes": [],
            "_model_module": "@jupyter-widgets/controls",
            "_model_module_version": "1.5.0",
            "_model_name": "HBoxModel",
            "_view_count": null,
            "_view_module": "@jupyter-widgets/controls",
            "_view_module_version": "1.5.0",
            "_view_name": "HBoxView",
            "box_style": "",
            "children": [
              "IPY_MODEL_130e7f5bc5304f2f93a49540c50039b1",
              "IPY_MODEL_e75431e703474cda9aa802d5967a0290",
              "IPY_MODEL_6173576529c64c0b809c250f7cb9da2a"
            ],
            "layout": "IPY_MODEL_5d203adea9804ffd8d109bf4e6c3425a"
          }
        },
        "130e7f5bc5304f2f93a49540c50039b1": {
          "model_module": "@jupyter-widgets/controls",
          "model_name": "HTMLModel",
          "model_module_version": "1.5.0",
          "state": {
            "_dom_classes": [],
            "_model_module": "@jupyter-widgets/controls",
            "_model_module_version": "1.5.0",
            "_model_name": "HTMLModel",
            "_view_count": null,
            "_view_module": "@jupyter-widgets/controls",
            "_view_module_version": "1.5.0",
            "_view_name": "HTMLView",
            "description": "",
            "description_tooltip": null,
            "layout": "IPY_MODEL_2b782ee0320848e5ba97942133b2b948",
            "placeholder": "​",
            "style": "IPY_MODEL_9c1183f2a62c480492a91eacca61e158",
            "value": "generation_config.json: 100%"
          }
        },
        "e75431e703474cda9aa802d5967a0290": {
          "model_module": "@jupyter-widgets/controls",
          "model_name": "FloatProgressModel",
          "model_module_version": "1.5.0",
          "state": {
            "_dom_classes": [],
            "_model_module": "@jupyter-widgets/controls",
            "_model_module_version": "1.5.0",
            "_model_name": "FloatProgressModel",
            "_view_count": null,
            "_view_module": "@jupyter-widgets/controls",
            "_view_module_version": "1.5.0",
            "_view_name": "ProgressView",
            "bar_style": "success",
            "description": "",
            "description_tooltip": null,
            "layout": "IPY_MODEL_e01ad435ecae4f3abb8470e034971a89",
            "max": 147,
            "min": 0,
            "orientation": "horizontal",
            "style": "IPY_MODEL_897e2440001c4d469c0c30a9b2b883a7",
            "value": 147
          }
        },
        "6173576529c64c0b809c250f7cb9da2a": {
          "model_module": "@jupyter-widgets/controls",
          "model_name": "HTMLModel",
          "model_module_version": "1.5.0",
          "state": {
            "_dom_classes": [],
            "_model_module": "@jupyter-widgets/controls",
            "_model_module_version": "1.5.0",
            "_model_name": "HTMLModel",
            "_view_count": null,
            "_view_module": "@jupyter-widgets/controls",
            "_view_module_version": "1.5.0",
            "_view_name": "HTMLView",
            "description": "",
            "description_tooltip": null,
            "layout": "IPY_MODEL_66e734063d1949ef937a7b18d36465ce",
            "placeholder": "​",
            "style": "IPY_MODEL_0e60d5829b9945dfbb1eb851a4de7c48",
            "value": " 147/147 [00:00&lt;00:00, 7.85kB/s]"
          }
        },
        "5d203adea9804ffd8d109bf4e6c3425a": {
          "model_module": "@jupyter-widgets/base",
          "model_name": "LayoutModel",
          "model_module_version": "1.2.0",
          "state": {
            "_model_module": "@jupyter-widgets/base",
            "_model_module_version": "1.2.0",
            "_model_name": "LayoutModel",
            "_view_count": null,
            "_view_module": "@jupyter-widgets/base",
            "_view_module_version": "1.2.0",
            "_view_name": "LayoutView",
            "align_content": null,
            "align_items": null,
            "align_self": null,
            "border": null,
            "bottom": null,
            "display": null,
            "flex": null,
            "flex_flow": null,
            "grid_area": null,
            "grid_auto_columns": null,
            "grid_auto_flow": null,
            "grid_auto_rows": null,
            "grid_column": null,
            "grid_gap": null,
            "grid_row": null,
            "grid_template_areas": null,
            "grid_template_columns": null,
            "grid_template_rows": null,
            "height": null,
            "justify_content": null,
            "justify_items": null,
            "left": null,
            "margin": null,
            "max_height": null,
            "max_width": null,
            "min_height": null,
            "min_width": null,
            "object_fit": null,
            "object_position": null,
            "order": null,
            "overflow": null,
            "overflow_x": null,
            "overflow_y": null,
            "padding": null,
            "right": null,
            "top": null,
            "visibility": null,
            "width": null
          }
        },
        "2b782ee0320848e5ba97942133b2b948": {
          "model_module": "@jupyter-widgets/base",
          "model_name": "LayoutModel",
          "model_module_version": "1.2.0",
          "state": {
            "_model_module": "@jupyter-widgets/base",
            "_model_module_version": "1.2.0",
            "_model_name": "LayoutModel",
            "_view_count": null,
            "_view_module": "@jupyter-widgets/base",
            "_view_module_version": "1.2.0",
            "_view_name": "LayoutView",
            "align_content": null,
            "align_items": null,
            "align_self": null,
            "border": null,
            "bottom": null,
            "display": null,
            "flex": null,
            "flex_flow": null,
            "grid_area": null,
            "grid_auto_columns": null,
            "grid_auto_flow": null,
            "grid_auto_rows": null,
            "grid_column": null,
            "grid_gap": null,
            "grid_row": null,
            "grid_template_areas": null,
            "grid_template_columns": null,
            "grid_template_rows": null,
            "height": null,
            "justify_content": null,
            "justify_items": null,
            "left": null,
            "margin": null,
            "max_height": null,
            "max_width": null,
            "min_height": null,
            "min_width": null,
            "object_fit": null,
            "object_position": null,
            "order": null,
            "overflow": null,
            "overflow_x": null,
            "overflow_y": null,
            "padding": null,
            "right": null,
            "top": null,
            "visibility": null,
            "width": null
          }
        },
        "9c1183f2a62c480492a91eacca61e158": {
          "model_module": "@jupyter-widgets/controls",
          "model_name": "DescriptionStyleModel",
          "model_module_version": "1.5.0",
          "state": {
            "_model_module": "@jupyter-widgets/controls",
            "_model_module_version": "1.5.0",
            "_model_name": "DescriptionStyleModel",
            "_view_count": null,
            "_view_module": "@jupyter-widgets/base",
            "_view_module_version": "1.2.0",
            "_view_name": "StyleView",
            "description_width": ""
          }
        },
        "e01ad435ecae4f3abb8470e034971a89": {
          "model_module": "@jupyter-widgets/base",
          "model_name": "LayoutModel",
          "model_module_version": "1.2.0",
          "state": {
            "_model_module": "@jupyter-widgets/base",
            "_model_module_version": "1.2.0",
            "_model_name": "LayoutModel",
            "_view_count": null,
            "_view_module": "@jupyter-widgets/base",
            "_view_module_version": "1.2.0",
            "_view_name": "LayoutView",
            "align_content": null,
            "align_items": null,
            "align_self": null,
            "border": null,
            "bottom": null,
            "display": null,
            "flex": null,
            "flex_flow": null,
            "grid_area": null,
            "grid_auto_columns": null,
            "grid_auto_flow": null,
            "grid_auto_rows": null,
            "grid_column": null,
            "grid_gap": null,
            "grid_row": null,
            "grid_template_areas": null,
            "grid_template_columns": null,
            "grid_template_rows": null,
            "height": null,
            "justify_content": null,
            "justify_items": null,
            "left": null,
            "margin": null,
            "max_height": null,
            "max_width": null,
            "min_height": null,
            "min_width": null,
            "object_fit": null,
            "object_position": null,
            "order": null,
            "overflow": null,
            "overflow_x": null,
            "overflow_y": null,
            "padding": null,
            "right": null,
            "top": null,
            "visibility": null,
            "width": null
          }
        },
        "897e2440001c4d469c0c30a9b2b883a7": {
          "model_module": "@jupyter-widgets/controls",
          "model_name": "ProgressStyleModel",
          "model_module_version": "1.5.0",
          "state": {
            "_model_module": "@jupyter-widgets/controls",
            "_model_module_version": "1.5.0",
            "_model_name": "ProgressStyleModel",
            "_view_count": null,
            "_view_module": "@jupyter-widgets/base",
            "_view_module_version": "1.2.0",
            "_view_name": "StyleView",
            "bar_color": null,
            "description_width": ""
          }
        },
        "66e734063d1949ef937a7b18d36465ce": {
          "model_module": "@jupyter-widgets/base",
          "model_name": "LayoutModel",
          "model_module_version": "1.2.0",
          "state": {
            "_model_module": "@jupyter-widgets/base",
            "_model_module_version": "1.2.0",
            "_model_name": "LayoutModel",
            "_view_count": null,
            "_view_module": "@jupyter-widgets/base",
            "_view_module_version": "1.2.0",
            "_view_name": "LayoutView",
            "align_content": null,
            "align_items": null,
            "align_self": null,
            "border": null,
            "bottom": null,
            "display": null,
            "flex": null,
            "flex_flow": null,
            "grid_area": null,
            "grid_auto_columns": null,
            "grid_auto_flow": null,
            "grid_auto_rows": null,
            "grid_column": null,
            "grid_gap": null,
            "grid_row": null,
            "grid_template_areas": null,
            "grid_template_columns": null,
            "grid_template_rows": null,
            "height": null,
            "justify_content": null,
            "justify_items": null,
            "left": null,
            "margin": null,
            "max_height": null,
            "max_width": null,
            "min_height": null,
            "min_width": null,
            "object_fit": null,
            "object_position": null,
            "order": null,
            "overflow": null,
            "overflow_x": null,
            "overflow_y": null,
            "padding": null,
            "right": null,
            "top": null,
            "visibility": null,
            "width": null
          }
        },
        "0e60d5829b9945dfbb1eb851a4de7c48": {
          "model_module": "@jupyter-widgets/controls",
          "model_name": "DescriptionStyleModel",
          "model_module_version": "1.5.0",
          "state": {
            "_model_module": "@jupyter-widgets/controls",
            "_model_module_version": "1.5.0",
            "_model_name": "DescriptionStyleModel",
            "_view_count": null,
            "_view_module": "@jupyter-widgets/base",
            "_view_module_version": "1.2.0",
            "_view_name": "StyleView",
            "description_width": ""
          }
        }
      }
    }
  },
  "nbformat": 4,
  "nbformat_minor": 0
}